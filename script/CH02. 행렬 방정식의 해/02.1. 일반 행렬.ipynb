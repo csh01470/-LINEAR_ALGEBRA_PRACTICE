{
 "cells": [
  {
   "cell_type": "markdown",
   "metadata": {},
   "source": [
    "# CH02.1. **일반 행렬**"
   ]
  },
  {
   "cell_type": "markdown",
   "metadata": {},
   "source": [
    "## 00. **작업 환경 설정**"
   ]
  },
  {
   "cell_type": "markdown",
   "metadata": {},
   "source": [
    "#### 00.1. **라이브러리 호출 및 옵션 설정**"
   ]
  },
  {
   "cell_type": "code",
   "execution_count": 1,
   "metadata": {},
   "outputs": [],
   "source": [
    "import numpy as np\n",
    "import scipy"
   ]
  },
  {
   "cell_type": "markdown",
   "metadata": {},
   "source": [
    "<b></b>"
   ]
  },
  {
   "cell_type": "markdown",
   "metadata": {},
   "source": [
    "## 01. **선형 방정식 $ A\\textbf{x} = \\textbf{b} $ 에서 역행렬 연산보다 일반 연산이 효율적인 이유**"
   ]
  },
  {
   "cell_type": "markdown",
   "metadata": {},
   "source": [
    "#### 01.1. **두 계산의 연산량은 모두 동일함**"
   ]
  },
  {
   "cell_type": "markdown",
   "metadata": {},
   "source": [
    "#### **(1) 역행렬 연산량** : \n",
    "#### $ \\hspace{0.15cm} $ ① 역행렬 $ A^{-1} $ 을 명시적으로 정의하는 연산량 : $ \\, O(n^{3}) $\n",
    "#### $ \\hspace{0.15cm} $ ② $ \\, A^{-1}\\textbf{b} $ 의 연산량 : $ \\, O(n^{2}) $"
   ]
  },
  {
   "cell_type": "markdown",
   "metadata": {},
   "source": [
    "#### **(2) 일반 연산량** : "
   ]
  },
  {
   "cell_type": "markdown",
   "metadata": {},
   "source": [
    "#### $ \\hspace{0.15cm} $ ① 가우스 소거(Gaussian elimination)의 연산량 : $ \\, O(n^{3}) $\n",
    "#### $ \\hspace{0.15cm} $ ② LU 분해(decomposition)의 연산량 : \n",
    "#### $ \\hspace{0.45cm} \\cdot{} \\, A = LU \\, $ : $ \\, O(n^{3}) $\n",
    "#### $ \\hspace{0.45cm} \\cdot{} \\, LU\\textbf{x} = \\textbf{b} \\, $ : $ \\, O(n^{2}) $"
   ]
  },
  {
   "cell_type": "markdown",
   "metadata": {},
   "source": [
    "#### 01.2. **그러나 수치적 정확도를 고려했을 때, 역행렬 연산은 부정확해질 가능성이 존재함** (backward error analysis)"
   ]
  },
  {
   "cell_type": "markdown",
   "metadata": {},
   "source": [
    "#### **(`EX`)** 컴퓨팅이 소수점 $ \\, 4 $ 개까지만 표현될경우, $ \\, 3x = 6 $ 이라는 선형 방정식에서 해를 구하고자 할 때\n",
    "#### $ \\hspace{0.15cm} $ ① 역행렬을 구해 해를 찾는 경우 \n",
    "#### $ \\hspace{0.45cm} A^{-1} = 0.3333 \\cdots{} \\approx{} 0.3333 \\Rightarrow{} x = 1.9998 = 0.1999E+01 $\n",
    "#### $ \\hspace{0.15cm} $ ② 일반 연산을 통해 해를 찾는 경우\n",
    "#### $ \\hspace{0.45cm} 3x = 6 \\Rightarrow{} x = 2 $"
   ]
  },
  {
   "cell_type": "markdown",
   "metadata": {},
   "source": [
    "#### 01.3. **행렬이 희소(sparse)할 경우 일반적으로 역행렬은 밀집(dense)하나, LU 분해의 경우 희소할 확률이 커 연산이 더 효율적임**"
   ]
  },
  {
   "cell_type": "markdown",
   "metadata": {},
   "source": [
    "<b></b>"
   ]
  },
  {
   "cell_type": "markdown",
   "metadata": {},
   "source": [
    "## 02. **일반 행렬 방정식의 해**"
   ]
  },
  {
   "cell_type": "markdown",
   "metadata": {},
   "source": [
    "#### 02.1. **행렬식(determinant) : `np.linalg.det()`**\n",
    "#### $ \\text{mat\\_01} = \\begin{bmatrix} 1&5&0 \\\\ 2&4&-1 \\\\ 0&-2&0 \\end{bmatrix}, \\;\\; \\det{}(\\text{mat\\_01}) = ? $"
   ]
  },
  {
   "cell_type": "markdown",
   "metadata": {},
   "source": [
    "#### **(`HOW?`)** LU 분해 후 행렬식을 구함, $ \\;\\; \\det{}(A) = \\det{}(L\\times{}U) = \\det{}(L) \\times{} \\det{}(U) $"
   ]
  },
  {
   "cell_type": "code",
   "execution_count": 2,
   "metadata": {},
   "outputs": [
    {
     "data": {
      "text/plain": [
       "array([[ 1,  5,  0],\n",
       "       [ 2,  4, -1],\n",
       "       [ 0, -2,  0]])"
      ]
     },
     "execution_count": 2,
     "metadata": {},
     "output_type": "execute_result"
    }
   ],
   "source": [
    "#(1) Define `mat_01`\n",
    "mat_01 = np.array(object=[1, 5, 0, 2, 4, -1, 0, -2, 0], dtype=np.int64).reshape((3,3))\n",
    "\n",
    "#(2) Print `mat_01`\n",
    "mat_01"
   ]
  },
  {
   "cell_type": "code",
   "execution_count": 3,
   "metadata": {},
   "outputs": [
    {
     "data": {
      "text/plain": [
       "-1.9999999999999998"
      ]
     },
     "execution_count": 3,
     "metadata": {},
     "output_type": "execute_result"
    }
   ],
   "source": [
    "#(3) Define determinent of `mat_01` (by numpy)\n",
    "np.linalg.det(a=mat_01)"
   ]
  },
  {
   "cell_type": "code",
   "execution_count": 4,
   "metadata": {},
   "outputs": [
    {
     "data": {
      "text/plain": [
       "-2.0"
      ]
     },
     "execution_count": 4,
     "metadata": {},
     "output_type": "execute_result"
    }
   ],
   "source": [
    "#(4) Define determinent of `mat_01` (by scipy)\n",
    "scipy.linalg.det(a=mat_01)"
   ]
  },
  {
   "cell_type": "markdown",
   "metadata": {},
   "source": [
    "#### 02.2. **역행렬(inverse matrix) : `np.linalg.inv()`**\n",
    "#### $ \\text{mat\\_01} = \\begin{bmatrix} 1&5&0 \\\\ 2&4&-1 \\\\ 0&-2&0 \\end{bmatrix}, \\;\\; (\\text{mat\\_01})^{-1} = ? $"
   ]
  },
  {
   "cell_type": "markdown",
   "metadata": {},
   "source": [
    "#### **(`HOW?`)** LU 분해 후 역행렬을 구함, $ \\;\\; \\det{}(L)\\det{}(U)A^{-1} = I $"
   ]
  },
  {
   "cell_type": "code",
   "execution_count": 5,
   "metadata": {},
   "outputs": [
    {
     "data": {
      "text/plain": [
       "array([[ 1. ,  0. ,  2.5],\n",
       "       [ 0. ,  0. , -0.5],\n",
       "       [ 2. , -1. ,  3. ]])"
      ]
     },
     "execution_count": 5,
     "metadata": {},
     "output_type": "execute_result"
    }
   ],
   "source": [
    "#(1) Define inverse matrix of `mat_01`\n",
    "np.linalg.inv(a=mat_01)"
   ]
  },
  {
   "cell_type": "code",
   "execution_count": 6,
   "metadata": {},
   "outputs": [
    {
     "data": {
      "text/plain": [
       "array([[ 1. ,  0. ,  2.5],\n",
       "       [ 0. ,  0. , -0.5],\n",
       "       [ 2. , -1. ,  3. ]])"
      ]
     },
     "execution_count": 6,
     "metadata": {},
     "output_type": "execute_result"
    }
   ],
   "source": [
    "#(2) Define inverse matrix of `mat_01`\n",
    "scipy.linalg.inv(a=mat_01)"
   ]
  },
  {
   "cell_type": "markdown",
   "metadata": {},
   "source": [
    "#### **(`PLUS`)** 특이 행렬(singular matrix)일 경우, 역행렬을 구할 수 없음\n",
    "#### $ \\text{mat\\_02} = \\begin{bmatrix} 1&3&4 \\\\ -4&2,&-6 \\\\ -3&-2&-7 \\end{bmatrix}, \\;\\; (\\text{mat\\_02})^{-1} = ?  $"
   ]
  },
  {
   "cell_type": "code",
   "execution_count": 7,
   "metadata": {},
   "outputs": [
    {
     "data": {
      "text/plain": [
       "array([[ 1,  3,  4],\n",
       "       [-4,  2, -6],\n",
       "       [-3, -2, -7]])"
      ]
     },
     "execution_count": 7,
     "metadata": {},
     "output_type": "execute_result"
    }
   ],
   "source": [
    "#(1) Define `mat_02`\n",
    "mat_02 = np.array(object=[1, 3, 4, -4, 2, -6, -3, -2, -7], dtype=np.int64).reshape((3, 3))\n",
    "\n",
    "#(2) Print `mat_02`\n",
    "mat_02"
   ]
  },
  {
   "cell_type": "code",
   "execution_count": 8,
   "metadata": {},
   "outputs": [
    {
     "name": "stdout",
     "output_type": "stream",
     "text": [
      ">> AN ERROR OCCURRED. ERROR MESSAGE IS \"Singular matrix\".\n"
     ]
    }
   ],
   "source": [
    "#(3) Deine inverse matrix of `mat_02`\n",
    "try : \n",
    "    np.linalg.inv(a=mat_02)\n",
    "except np.linalg.LinAlgError as error : \n",
    "    print(f'>> AN ERROR OCCURRED. ERROR MESSAGE IS \"{error}\".')"
   ]
  },
  {
   "cell_type": "markdown",
   "metadata": {},
   "source": [
    "#### 02.3. **일반 행렬의 해 구하기 : `np.linalg.solve()`**\n",
    "#### $ \\text{mat\\_01} = \\begin{bmatrix} 1&5&0 \\\\ 2&4&-1 \\\\ 0&-2&0 \\end{bmatrix}, \\;\\; (\\text{mat\\_01})\\textbf{x} = \\textbf{b} = \\begin{bmatrix} 1 \\\\ 1 \\\\ 1 \\end{bmatrix}, \\;\\; \\textbf{x} = ? $"
   ]
  },
  {
   "cell_type": "code",
   "execution_count": 9,
   "metadata": {},
   "outputs": [
    {
     "data": {
      "text/plain": [
       "array([1, 1, 1])"
      ]
     },
     "execution_count": 9,
     "metadata": {},
     "output_type": "execute_result"
    }
   ],
   "source": [
    "#(1) Define `vec_b`\n",
    "vec_b = np.array(object=[1, 1, 1], dtype=np.int64)\n",
    "\n",
    "#(2) Print `vec_b`\n",
    "vec_b"
   ]
  },
  {
   "cell_type": "code",
   "execution_count": 10,
   "metadata": {},
   "outputs": [
    {
     "data": {
      "text/plain": [
       "array([ 3.5, -0.5,  4. ])"
      ]
     },
     "execution_count": 10,
     "metadata": {},
     "output_type": "execute_result"
    }
   ],
   "source": [
    "#(3) Solve linear-equation\n",
    "vec_x = np.linalg.solve(a=mat_01, b=vec_b)\n",
    "\n",
    "#(4) Print `vec_x`\n",
    "vec_x"
   ]
  },
  {
   "cell_type": "markdown",
   "metadata": {},
   "source": [
    "#### **(`PLUS`)** `assume_a` 파라미터 해석\n",
    "#### $ \\hspace{0.15cm} \\cdot{} $ `gen` : 일반적인 행렬(뭔지 모름) $ \\, \\Rightarrow{} $ LU 분해 ($ A = LU $)\n",
    "#### $ \\hspace{0.15cm} \\cdot{} $ `sym` : 대칭 행렬(symmetric matrix; $ A = A^{T} $) $ \\, \\Rightarrow{} $ diagonal pivoting ($ A = LDL^{T} $)\n",
    "#### $ \\hspace{0.15cm} \\cdot{} $ `her` : 에르미트 행렬(hermitian matrix; $ A = A^{*} $) $ \\, \\Rightarrow{} $ diagonal pivoting ($ A = LDL^{T} $)\n",
    "#### $ \\hspace{0.15cm} \\cdot{} $ `pos` : 양의 정부호 행렬(positive definite matrix; $ \\textbf{x}^{T}A\\textbf{x} > 0 $) $ \\, \\Rightarrow{} $ Cholesky 분해 ($ A = R^{T}R = LL^{T} $)"
   ]
  },
  {
   "cell_type": "markdown",
   "metadata": {},
   "source": [
    "#### 02.4. **삼각 행렬의 해 구하기 : `scipy.linalg.solve_triangular()`**\n",
    "#### $ \\text{mat\\_03} = \\begin{bmatrix} 1&0&0&0 \\\\ 1&4&0&0 \\\\ 5&0&1&0 \\\\ 8&1&-2&2 \\end{bmatrix}, \\;\\; (\\text{mat\\_03})\\textbf{x} = \\textbf{b} = \\begin{bmatrix} 1 \\\\ 2 \\\\ 3 \\\\ 4 \\end{bmatrix}, \\;\\; \\textbf{x} = ? $"
   ]
  },
  {
   "cell_type": "code",
   "execution_count": 11,
   "metadata": {},
   "outputs": [
    {
     "data": {
      "text/plain": [
       "array([[ 1.,  0.,  0.,  0.],\n",
       "       [ 1.,  4.,  0.,  0.],\n",
       "       [ 5.,  0.,  1.,  0.],\n",
       "       [ 8.,  1., -2.,  2.]])"
      ]
     },
     "execution_count": 11,
     "metadata": {},
     "output_type": "execute_result"
    }
   ],
   "source": [
    "#(1) Define `mat_03`\n",
    "mat_03 = np.array(object=[1, 0, 0, 0, 1, 4, 0, 0, 5, 0, 1, 0, 8, 1, -2, 2], dtype=np.float64).reshape(4,4)\n",
    "\n",
    "#(2) Print `mat_03`\n",
    "mat_03"
   ]
  },
  {
   "cell_type": "code",
   "execution_count": 12,
   "metadata": {},
   "outputs": [
    {
     "data": {
      "text/plain": [
       "array([1., 2., 3., 4.])"
      ]
     },
     "execution_count": 12,
     "metadata": {},
     "output_type": "execute_result"
    }
   ],
   "source": [
    "#(3) Define `vec_b`\n",
    "vec_b = np.array(object=[1, 2, 3, 4], dtype=np.float64)\n",
    "\n",
    "#(4) Print `vec_b`\n",
    "vec_b"
   ]
  },
  {
   "cell_type": "code",
   "execution_count": 13,
   "metadata": {},
   "outputs": [
    {
     "ename": "ValueError",
     "evalue": "shapes of a (3, 3) and b (4,) are incompatible",
     "output_type": "error",
     "traceback": [
      "\u001b[0;31m---------------------------------------------------------------------------\u001b[0m",
      "\u001b[0;31mValueError\u001b[0m                                Traceback (most recent call last)",
      "Cell \u001b[0;32mIn[13], line 2\u001b[0m\n\u001b[1;32m      1\u001b[0m \u001b[38;5;66;03m#(5) Solve linear-equation\u001b[39;00m\n\u001b[0;32m----> 2\u001b[0m vec_x \u001b[38;5;241m=\u001b[39m \u001b[43mscipy\u001b[49m\u001b[38;5;241;43m.\u001b[39;49m\u001b[43mlinalg\u001b[49m\u001b[38;5;241;43m.\u001b[39;49m\u001b[43msolve_triangular\u001b[49m\u001b[43m(\u001b[49m\u001b[43ma\u001b[49m\u001b[38;5;241;43m=\u001b[39;49m\u001b[43mmat_02\u001b[49m\u001b[43m,\u001b[49m\u001b[43m \u001b[49m\u001b[43mb\u001b[49m\u001b[38;5;241;43m=\u001b[39;49m\u001b[43mvec_b\u001b[49m\u001b[43m,\u001b[49m\u001b[43m \u001b[49m\u001b[43mlower\u001b[49m\u001b[38;5;241;43m=\u001b[39;49m\u001b[38;5;28;43;01mTrue\u001b[39;49;00m\u001b[43m)\u001b[49m\n\u001b[1;32m      4\u001b[0m \u001b[38;5;66;03m#(6) Print `vec_x`\u001b[39;00m\n\u001b[1;32m      5\u001b[0m vec_x\n",
      "File \u001b[0;32m/opt/homebrew/Caskroom/mambaforge/base/envs/SCKLN/lib/python3.8/site-packages/scipy/linalg/_basic.py:342\u001b[0m, in \u001b[0;36msolve_triangular\u001b[0;34m(a, b, trans, lower, unit_diagonal, overwrite_b, check_finite)\u001b[0m\n\u001b[1;32m    340\u001b[0m     \u001b[38;5;28;01mraise\u001b[39;00m \u001b[38;5;167;01mValueError\u001b[39;00m(\u001b[38;5;124m'\u001b[39m\u001b[38;5;124mexpected square matrix\u001b[39m\u001b[38;5;124m'\u001b[39m)\n\u001b[1;32m    341\u001b[0m \u001b[38;5;28;01mif\u001b[39;00m a1\u001b[38;5;241m.\u001b[39mshape[\u001b[38;5;241m0\u001b[39m] \u001b[38;5;241m!=\u001b[39m b1\u001b[38;5;241m.\u001b[39mshape[\u001b[38;5;241m0\u001b[39m]:\n\u001b[0;32m--> 342\u001b[0m     \u001b[38;5;28;01mraise\u001b[39;00m \u001b[38;5;167;01mValueError\u001b[39;00m(\u001b[38;5;124m'\u001b[39m\u001b[38;5;124mshapes of a \u001b[39m\u001b[38;5;132;01m{}\u001b[39;00m\u001b[38;5;124m and b \u001b[39m\u001b[38;5;132;01m{}\u001b[39;00m\u001b[38;5;124m are incompatible\u001b[39m\u001b[38;5;124m'\u001b[39m\n\u001b[1;32m    343\u001b[0m                      \u001b[38;5;241m.\u001b[39mformat(a1\u001b[38;5;241m.\u001b[39mshape, b1\u001b[38;5;241m.\u001b[39mshape))\n\u001b[1;32m    344\u001b[0m overwrite_b \u001b[38;5;241m=\u001b[39m overwrite_b \u001b[38;5;129;01mor\u001b[39;00m _datacopied(b1, b)\n\u001b[1;32m    346\u001b[0m trans \u001b[38;5;241m=\u001b[39m {\u001b[38;5;124m'\u001b[39m\u001b[38;5;124mN\u001b[39m\u001b[38;5;124m'\u001b[39m: \u001b[38;5;241m0\u001b[39m, \u001b[38;5;124m'\u001b[39m\u001b[38;5;124mT\u001b[39m\u001b[38;5;124m'\u001b[39m: \u001b[38;5;241m1\u001b[39m, \u001b[38;5;124m'\u001b[39m\u001b[38;5;124mC\u001b[39m\u001b[38;5;124m'\u001b[39m: \u001b[38;5;241m2\u001b[39m}\u001b[38;5;241m.\u001b[39mget(trans, trans)\n",
      "\u001b[0;31mValueError\u001b[0m: shapes of a (3, 3) and b (4,) are incompatible"
     ]
    }
   ],
   "source": [
    "#(5) Solve linear-equation\n",
    "vec_x = scipy.linalg.solve_triangular(a=mat_02, b=vec_b, lower=True)\n",
    "\n",
    "#(6) Print `vec_x`\n",
    "vec_x"
   ]
  },
  {
   "cell_type": "markdown",
   "metadata": {},
   "source": [
    "<b></b>"
   ]
  },
  {
   "cell_type": "markdown",
   "metadata": {},
   "source": [
    "## 03. **해의 정확도 확인**"
   ]
  },
  {
   "cell_type": "markdown",
   "metadata": {},
   "source": [
    "#### 03.1. **절대오차와 상대오차**"
   ]
  },
  {
   "cell_type": "markdown",
   "metadata": {},
   "source": [
    "#### **(1) 판단 기준** :\n",
    "#### $ \\hspace{0.15cm} \\cdot{} \\, | x - y | \\leq{} (\\epsilon_{1} + \\epsilon{}_{2} \\times{} |y| ) : \\, $ 가깝다(close)\n",
    "#### $ \\hspace{0.15cm} \\cdot{} \\, | x - y | > (\\epsilon_{1} + \\epsilon{}_{2} \\times{} |y| ) : \\, $ 멀다(far; 다르다)"
   ]
  },
  {
   "cell_type": "markdown",
   "metadata": {},
   "source": [
    "#### **(2) 절대오차(absolute tolerance)** : $ \\, \\epsilon{}_{1} = 10^{-8} $"
   ]
  },
  {
   "cell_type": "markdown",
   "metadata": {},
   "source": [
    "##### **(3) 상대오차(relative tolerance)** : $ \\, \\epsilon{}_{2} \\times{} y, \\;\\; \\epsilon{}_{2} = 10^{-5} $"
   ]
  },
  {
   "cell_type": "markdown",
   "metadata": {},
   "source": [
    "#### 03.2. **배열의 전체적 비교 : `np.allclose()`**"
   ]
  },
  {
   "cell_type": "code",
   "execution_count": null,
   "metadata": {},
   "outputs": [],
   "source": [
    "#(1) Check close\n",
    "np.allclose(a=mat_02 @ vec_x, b=vec_b)"
   ]
  },
  {
   "cell_type": "markdown",
   "metadata": {},
   "source": [
    "#### 03.3. **배열의 요소간 비교 : `np.isclose()`**"
   ]
  },
  {
   "cell_type": "code",
   "execution_count": null,
   "metadata": {},
   "outputs": [],
   "source": [
    "#(1) Check close\n",
    "np.isclose(a=mat_02 @ vec_x, b=vec_b)"
   ]
  }
 ],
 "metadata": {
  "kernelspec": {
   "display_name": "SCKLN",
   "language": "python",
   "name": "python3"
  },
  "language_info": {
   "codemirror_mode": {
    "name": "ipython",
    "version": 3
   },
   "file_extension": ".py",
   "mimetype": "text/x-python",
   "name": "python",
   "nbconvert_exporter": "python",
   "pygments_lexer": "ipython3",
   "version": "3.8.20"
  }
 },
 "nbformat": 4,
 "nbformat_minor": 2
}
