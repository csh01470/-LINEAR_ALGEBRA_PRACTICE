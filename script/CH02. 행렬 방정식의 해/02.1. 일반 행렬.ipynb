{
 "cells": [
  {
   "cell_type": "markdown",
   "metadata": {},
   "source": [
    "# CH02.1. **일반 행렬**"
   ]
  },
  {
   "cell_type": "markdown",
   "metadata": {},
   "source": [
    "## 00. **작업 환경 설정**"
   ]
  },
  {
   "cell_type": "markdown",
   "metadata": {},
   "source": [
    "#### 00.1. **라이브러리 호출 및 옵션 설정**"
   ]
  },
  {
   "cell_type": "code",
   "execution_count": 1,
   "metadata": {},
   "outputs": [],
   "source": [
    "import numpy as np\n",
    "import scipy"
   ]
  },
  {
   "cell_type": "markdown",
   "metadata": {},
   "source": [
    "<b></b>"
   ]
  },
  {
   "cell_type": "markdown",
   "metadata": {},
   "source": [
    "## 01. **선형 방정식 $ A\\textbf{x} = \\textbf{b} $ 에서 역행렬 연산보다 일반 연산이 효율적인 이유**"
   ]
  },
  {
   "cell_type": "markdown",
   "metadata": {},
   "source": [
    "#### 01.1. **두 계산의 연산량은 모두 동일함**"
   ]
  },
  {
   "cell_type": "markdown",
   "metadata": {},
   "source": [
    "#### **(1) 역행렬 연산량** : \n",
    "#### $ \\hspace{0.15cm} $ ① 역행렬 $ A^{-1} $ 을 명시적으로 정의하는 연산량 : $ \\, O(n^{3}) $\n",
    "#### $ \\hspace{0.15cm} $ ② $ \\, A^{-1}\\textbf{b} $ 의 연산량 : $ \\, O(n^{2}) $"
   ]
  },
  {
   "cell_type": "markdown",
   "metadata": {},
   "source": [
    "#### **(2) 일반 연산량** : "
   ]
  },
  {
   "cell_type": "markdown",
   "metadata": {},
   "source": [
    "#### $ \\hspace{0.15cm} $ ① 가우스 소거(Gaussian elimination)의 연산량 : $ \\, O(n^{3}) $\n",
    "#### $ \\hspace{0.15cm} $ ② LU 분해(decomposition)의 연산량 : \n",
    "#### $ \\hspace{0.45cm} \\cdot{} \\, A = LU \\, $ : $ \\, O(n^{3}) $\n",
    "#### $ \\hspace{0.45cm} \\cdot{} \\, LU\\textbf{x} = \\textbf{b} \\, $ : $ \\, O(n^{3}) $"
   ]
  },
  {
   "cell_type": "markdown",
   "metadata": {},
   "source": [
    "#### 01.2. **그러나 수치적 정확도를 고려했을 때, 역행렬 연산은 부정확해질 가능성이 존재함**"
   ]
  },
  {
   "cell_type": "markdown",
   "metadata": {},
   "source": [
    "#### **(`EX`)** 컴퓨팅이 소수점 4개까지만 표현될경우, $ \\, 3x = 6 $ 이라는 선형 방정식에서 해를 구하고자 할 때\n",
    "#### $ \\hspace{0.15cm} $ ① 역행렬을 구해 해를 찾는 경우 \n",
    "#### $ \\hspace{0.3cm} A^{-1} = 0.3333 \\cdots{} \\approx{} 0.3333 \\Rightarrow{} x = 1.9998 = 0.1999E+01 $\n",
    "#### $ \\hspace{0.15cm} $ ② 일반 연산을 통해 해를 찾는 경우\n",
    "#### $ \\hspace{0.3cm} 3x = 6 \\Rightarrow{} x = 2 $"
   ]
  },
  {
   "cell_type": "markdown",
   "metadata": {},
   "source": [
    "#### 01.3. **일반적으로 $ \\, A $ 가 희소 행렬(sparse matrix)일 경우 그 역행렬은 dense하나, LU 분해의 경우 그렇지 않을 경우가 커 연산이 더 효율적임**"
   ]
  },
  {
   "cell_type": "markdown",
   "metadata": {},
   "source": [
    "<b></b>"
   ]
  },
  {
   "cell_type": "markdown",
   "metadata": {},
   "source": [
    "## 02. **일반 행렬의 해**"
   ]
  },
  {
   "cell_type": "markdown",
   "metadata": {},
   "source": [
    "#### 02.1. **행렬식(determinant) : `np.linalg.det()`**\n",
    "#### $ \\text{mat\\_01} = \\begin{bmatrix} 1&5&0 \\\\ 2&4&-1 \\\\ 0&-2&0 \\end{bmatrix}, \\;\\; \\det{}(\\text{mat\\_01}) = ? $"
   ]
  },
  {
   "cell_type": "code",
   "execution_count": 2,
   "metadata": {},
   "outputs": [
    {
     "data": {
      "text/plain": [
       "array([[ 1.,  5.,  0.],\n",
       "       [ 2.,  4., -1.],\n",
       "       [ 0., -2.,  0.]])"
      ]
     },
     "execution_count": 2,
     "metadata": {},
     "output_type": "execute_result"
    }
   ],
   "source": [
    "#(1)\n",
    "mat_01 = np.array(object=[1, 5, 0, 2, 4, -1, 0, -2, 0], dtype=np.float64).reshape((3,3))\n",
    "\n",
    "#(2)\n",
    "mat_01"
   ]
  },
  {
   "cell_type": "code",
   "execution_count": 3,
   "metadata": {},
   "outputs": [
    {
     "data": {
      "text/plain": [
       "-1.9999999999999998"
      ]
     },
     "execution_count": 3,
     "metadata": {},
     "output_type": "execute_result"
    }
   ],
   "source": [
    "#(3)\n",
    "np.linalg.det(a=mat_01)"
   ]
  },
  {
   "cell_type": "code",
   "execution_count": 4,
   "metadata": {},
   "outputs": [
    {
     "data": {
      "text/plain": [
       "-2.0"
      ]
     },
     "execution_count": 4,
     "metadata": {},
     "output_type": "execute_result"
    }
   ],
   "source": [
    "#(4)\n",
    "scipy.linalg.det(a=mat_01)"
   ]
  },
  {
   "cell_type": "markdown",
   "metadata": {},
   "source": [
    "#### 02.2. **역행렬(inverse matrix) : `np.linalg.inv()`**\n",
    "#### $ \\text{mat\\_01} = \\begin{bmatrix} 1&5&0 \\\\ 2&4&-1 \\\\ 0&-2&0 \\end{bmatrix}, \\;\\; (\\text{mat\\_01})^{-1} = ? $"
   ]
  },
  {
   "cell_type": "code",
   "execution_count": 5,
   "metadata": {},
   "outputs": [
    {
     "data": {
      "text/plain": [
       "array([[ 1. ,  0. ,  2.5],\n",
       "       [ 0. ,  0. , -0.5],\n",
       "       [ 2. , -1. ,  3. ]])"
      ]
     },
     "execution_count": 5,
     "metadata": {},
     "output_type": "execute_result"
    }
   ],
   "source": [
    "#(1) \n",
    "scipy.linalg.inv(a=mat_01)"
   ]
  },
  {
   "cell_type": "code",
   "execution_count": 6,
   "metadata": {},
   "outputs": [
    {
     "data": {
      "text/plain": [
       "array([[ 1. ,  0. ,  2.5],\n",
       "       [ 0. ,  0. , -0.5],\n",
       "       [ 2. , -1. ,  3. ]])"
      ]
     },
     "execution_count": 6,
     "metadata": {},
     "output_type": "execute_result"
    }
   ],
   "source": [
    "#(2)\n",
    "np.linalg.inv(a=mat_01)"
   ]
  },
  {
   "cell_type": "markdown",
   "metadata": {},
   "source": [
    "#### 02.3. **일반 행렬의 해 구하기 : `np.linalg.solve()`**\n",
    "#### $ \\text{mat\\_01} = \\begin{bmatrix} 1&5&0 \\\\ 2&4&-1 \\\\ 0&-2&0 \\end{bmatrix}, \\;\\; (\\text{mat\\_01})\\textbf{x} = \\textbf{b} = \\begin{bmatrix} 1 \\\\ 1 \\\\ 1 \\end{bmatrix}, \\;\\; \\textbf{x} = ? $"
   ]
  },
  {
   "cell_type": "code",
   "execution_count": 22,
   "metadata": {},
   "outputs": [
    {
     "data": {
      "text/plain": [
       "array([1., 1., 1.])"
      ]
     },
     "execution_count": 22,
     "metadata": {},
     "output_type": "execute_result"
    }
   ],
   "source": [
    "#(1) \n",
    "vec_b = np.array(object=[1, 1, 1], dtype=np.float64)\n",
    "\n",
    "#(2)\n",
    "vec_b"
   ]
  },
  {
   "cell_type": "code",
   "execution_count": 23,
   "metadata": {},
   "outputs": [
    {
     "data": {
      "text/plain": [
       "array([ 3.5, -0.5,  4. ])"
      ]
     },
     "execution_count": 23,
     "metadata": {},
     "output_type": "execute_result"
    }
   ],
   "source": [
    "#(3)\n",
    "vec_x = np.linalg.solve(a=mat_01, b=vec_b)\n",
    "\n",
    "#(4)\n",
    "vec_x"
   ]
  },
  {
   "cell_type": "markdown",
   "metadata": {},
   "source": [
    "#### **(`PLUS`)** `assume_a` 파라미터 해석\n",
    "#### $ \\hspace{0.15cm} \\cdot{} $ `gen` : 일반적인 행렬(뭔지 모름) $ \\, \\Rightarrow{} $ \n",
    "#### $ \\hspace{0.15cm} \\cdot{} $ `sym` : 대칭 행렬(symmetric matrix) $ \\, \\Rightarrow{} $\n",
    "#### $ \\hspace{0.15cm} \\cdot{} $ `gesv` : $ \\, \\Rightarrow{} $ \n",
    "#### $ \\hspace{0.15cm} \\cdot{} $ `sysv` : $ \\, \\Rightarrow{} $ \n",
    "#### $ \\hspace{0.15cm} \\cdot{} $ `her` : 에르미트 행렬 $ \\, \\Rightarrow{} $ \n",
    "#### $ \\hspace{0.15cm} \\cdot{} $ `pos` : $ \\, \\Rightarrow{} $ "
   ]
  },
  {
   "cell_type": "markdown",
   "metadata": {},
   "source": [
    "#### **(`PLUS`)** (non-singular matrix)일 경우\n",
    "#### **[CONTENTS]**"
   ]
  },
  {
   "cell_type": "markdown",
   "metadata": {},
   "source": [
    "#### 02.4. **삼각 행렬의 해 구하기 : `np.linalg.solve_triangular()`**\n",
    "#### $ \\text{mat\\_02} = \\begin{bmatrix} 1&0&0&0 \\\\ 1&4&0&0 \\\\ 5&0&1&0 \\\\ 8&1&-2&2 \\end{bmatrix}, \\;\\; (\\text{mat\\_02})\\textbf{x} = \\textbf{b} = \\begin{bmatrix} 1 \\\\ 2 \\\\ 3 \\\\ 4 \\end{bmatrix}, \\;\\; \\textbf{x} = ? $"
   ]
  },
  {
   "cell_type": "code",
   "execution_count": 26,
   "metadata": {},
   "outputs": [
    {
     "data": {
      "text/plain": [
       "array([[ 1.,  0.,  0.,  0.],\n",
       "       [ 1.,  4.,  0.,  0.],\n",
       "       [ 5.,  0.,  1.,  0.],\n",
       "       [ 8.,  1., -2.,  2.]])"
      ]
     },
     "execution_count": 26,
     "metadata": {},
     "output_type": "execute_result"
    }
   ],
   "source": [
    "#(1)\n",
    "mat_02 = np.array(object=[1, 0, 0, 0, 1, 4, 0, 0, 5, 0, 1, 0, 8, 1, -2, 2], dtype=np.float64).reshape(4,4)\n",
    "\n",
    "#(2)\n",
    "mat_02"
   ]
  },
  {
   "cell_type": "code",
   "execution_count": 27,
   "metadata": {},
   "outputs": [
    {
     "data": {
      "text/plain": [
       "array([1., 2., 3., 4.])"
      ]
     },
     "execution_count": 27,
     "metadata": {},
     "output_type": "execute_result"
    }
   ],
   "source": [
    "#(3)\n",
    "vec_b = np.array(object=[1, 2, 3, 4], dtype=np.float64)\n",
    "\n",
    "#(4)\n",
    "vec_b"
   ]
  },
  {
   "cell_type": "code",
   "execution_count": 39,
   "metadata": {},
   "outputs": [
    {
     "data": {
      "text/plain": [
       "array([ 1.   ,  0.25 , -2.   , -4.125])"
      ]
     },
     "execution_count": 39,
     "metadata": {},
     "output_type": "execute_result"
    }
   ],
   "source": [
    "#(5)\n",
    "vec_x = scipy.linalg.solve_triangular(a=mat_02, b=vec_b, lower=True)\n",
    "\n",
    "#(6)\n",
    "vec_x"
   ]
  },
  {
   "cell_type": "markdown",
   "metadata": {},
   "source": [
    "<b></b>"
   ]
  },
  {
   "cell_type": "markdown",
   "metadata": {},
   "source": [
    "## 03. **해의 정확도 확인**"
   ]
  },
  {
   "cell_type": "markdown",
   "metadata": {},
   "source": [
    "#### 03.1. **_ : `np.allclose()`**"
   ]
  },
  {
   "cell_type": "code",
   "execution_count": 41,
   "metadata": {},
   "outputs": [
    {
     "data": {
      "text/plain": [
       "True"
      ]
     },
     "execution_count": 41,
     "metadata": {},
     "output_type": "execute_result"
    }
   ],
   "source": [
    "#(1)\n",
    "np.allclose(a=mat_02 @ vec_x, b=vec_b)"
   ]
  },
  {
   "cell_type": "markdown",
   "metadata": {},
   "source": [
    "#### **(`PLUS`)** \n",
    "#### $ | x - y | \\leq{} ( \\epsilon_{1} + \\epsilon{}_{2} \\times{} |y| ) $\n",
    "#### $ \\epsilon{}_{1} : 10^{-8}, \\;\\; \\epsilon{}_{2} : 10^{-5} $"
   ]
  }
 ],
 "metadata": {
  "kernelspec": {
   "display_name": "SCKLN",
   "language": "python",
   "name": "python3"
  },
  "language_info": {
   "codemirror_mode": {
    "name": "ipython",
    "version": 3
   },
   "file_extension": ".py",
   "mimetype": "text/x-python",
   "name": "python",
   "nbconvert_exporter": "python",
   "pygments_lexer": "ipython3",
   "version": "3.8.20"
  }
 },
 "nbformat": 4,
 "nbformat_minor": 2
}
