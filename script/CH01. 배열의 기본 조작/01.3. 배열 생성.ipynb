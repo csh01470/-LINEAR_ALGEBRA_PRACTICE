{
 "cells": [
  {
   "cell_type": "markdown",
   "metadata": {},
   "source": [
    "## CH01.3. **기본 배열 생성**"
   ]
  },
  {
   "cell_type": "markdown",
   "metadata": {},
   "source": [
    "## 00. **작업 환경 설정**"
   ]
  },
  {
   "cell_type": "markdown",
   "metadata": {},
   "source": [
    "#### 00.1. **라이브러리 호출 및 옵션 설정**"
   ]
  },
  {
   "cell_type": "code",
   "execution_count": 16,
   "metadata": {},
   "outputs": [],
   "source": [
    "import numpy as np"
   ]
  },
  {
   "cell_type": "markdown",
   "metadata": {},
   "source": [
    "<b></b>"
   ]
  },
  {
   "cell_type": "markdown",
   "metadata": {},
   "source": [
    "## 01. **항등행렬 생성**"
   ]
  },
  {
   "cell_type": "markdown",
   "metadata": {},
   "source": [
    "#### 01.1. **정방항등행렬(단위항등행렬) 생성 : `np.identity()`**\n",
    "#### $ \\text{define matrix\\_01} = \\begin{bmatrix} 1&0&0 \\\\ 0&1&0 \\\\ 0&0&1 \\end{bmatrix}. $"
   ]
  },
  {
   "cell_type": "code",
   "execution_count": 17,
   "metadata": {},
   "outputs": [
    {
     "data": {
      "text/plain": [
       "array([[1, 0, 0],\n",
       "       [0, 1, 0],\n",
       "       [0, 0, 1]])"
      ]
     },
     "execution_count": 17,
     "metadata": {},
     "output_type": "execute_result"
    }
   ],
   "source": [
    "#(1) Define `matrix_01`\n",
    "matrix_01 = np.identity(n=3, dtype=np.int64)\n",
    "\n",
    "#(2) Print `matrix_01`\n",
    "matrix_01"
   ]
  },
  {
   "cell_type": "markdown",
   "metadata": {},
   "source": [
    "#### 01.2. **정방항등행렬 생성 : `np.eye()`**\n",
    "#### $ \\text{define matrix\\_02} = \\begin{bmatrix} 1&0&0 \\\\ 0&1&0 \\\\ 0&0&1 \\end{bmatrix}. $"
   ]
  },
  {
   "cell_type": "code",
   "execution_count": 18,
   "metadata": {},
   "outputs": [
    {
     "data": {
      "text/plain": [
       "array([[1, 0, 0],\n",
       "       [0, 1, 0],\n",
       "       [0, 0, 1]])"
      ]
     },
     "execution_count": 18,
     "metadata": {},
     "output_type": "execute_result"
    }
   ],
   "source": [
    "#(1) Define `matrix_02`\n",
    "matrix_02 = np.eye(N=3, M=3, dtype=np.int64)\n",
    "\n",
    "#(2) Print `matrix_02`\n",
    "matrix_02"
   ]
  },
  {
   "cell_type": "markdown",
   "metadata": {},
   "source": [
    "#### 01.3. **이동항등행렬(shift identity matrix) 생성 : `np.eye(···, k)`** \n",
    "#### $ \\text{define matrix\\_03} = \\begin{bmatrix} 0&1&0&0 \\\\ 0&0&1&0 \\\\ 0&0&0&1 \\end{bmatrix}. $"
   ]
  },
  {
   "cell_type": "code",
   "execution_count": 19,
   "metadata": {},
   "outputs": [
    {
     "data": {
      "text/plain": [
       "array([[0, 1, 0, 0],\n",
       "       [0, 0, 1, 0],\n",
       "       [0, 0, 0, 1]], dtype=int32)"
      ]
     },
     "execution_count": 19,
     "metadata": {},
     "output_type": "execute_result"
    }
   ],
   "source": [
    "#(1) Define `matrix_03`\n",
    "matrix_03 = np.eye(N=3, M=4, k=1, dtype=np.int32)\n",
    "\n",
    "#(2) Print `matrix_03`\n",
    "matrix_03"
   ]
  },
  {
   "cell_type": "markdown",
   "metadata": {},
   "source": [
    "#### **(`PLUS`)** 인자 `K`는 band id라고 정의함"
   ]
  },
  {
   "cell_type": "markdown",
   "metadata": {},
   "source": [
    "<b></b>"
   ]
  },
  {
   "cell_type": "markdown",
   "metadata": {},
   "source": [
    "## 02. **삼각행렬 생성**"
   ]
  },
  {
   "cell_type": "markdown",
   "metadata": {},
   "source": [
    "#### 02.1. **단위 하삼각행렬 생성 : `np.tri()`**\n",
    "#### $ \\text{define matrix\\_04} = \\begin{bmatrix} 1&0&0 \\\\ 1&1&0 \\\\ 1&1&1 \\end{bmatrix}. $"
   ]
  },
  {
   "cell_type": "code",
   "execution_count": 20,
   "metadata": {},
   "outputs": [
    {
     "data": {
      "text/plain": [
       "array([[1, 0, 0],\n",
       "       [1, 1, 0],\n",
       "       [1, 1, 1]])"
      ]
     },
     "execution_count": 20,
     "metadata": {},
     "output_type": "execute_result"
    }
   ],
   "source": [
    "#(1) Define `matrix_04`\n",
    "matrix_04 = np.tri(N=3, M=3, k=0, dtype=np.int64)\n",
    "\n",
    "#(2) Print `matrix_04`\n",
    "matrix_04"
   ]
  },
  {
   "cell_type": "markdown",
   "metadata": {},
   "source": [
    "#### 02.2. **데이터 기반 하삼각행렬 생성 : `np.tril()`**\n",
    "#### $ \\text{define matrix\\_05} = \\begin{bmatrix} 1&3&2&6 \\\\ 3&2.5&4&-3 \\\\ 1&-3.7&11&-2 \\end{bmatrix}, \\;\\; \\text{matrix\\_06} = \\begin{bmatrix} 1&0&0&0 \\\\ 3&2.5&0&0 \\\\ 1&-3.7&11&0 \\end{bmatrix}. $"
   ]
  },
  {
   "cell_type": "code",
   "execution_count": 21,
   "metadata": {},
   "outputs": [
    {
     "data": {
      "text/plain": [
       "array([[ 1. ,  3. ,  2. ,  6. ],\n",
       "       [ 3. ,  2.5,  4. , -3. ],\n",
       "       [ 1. , -3.7, 11. , -2. ]])"
      ]
     },
     "execution_count": 21,
     "metadata": {},
     "output_type": "execute_result"
    }
   ],
   "source": [
    "#(1) Define `matrix_05`\n",
    "matrix_05 = np.array(object=[[1, 3, 2, 6], [3, 2.5, 4, -3], [1, -3.7, 11, -2]])\n",
    "\n",
    "#(2) Print `matrix_05`\n",
    "matrix_05"
   ]
  },
  {
   "cell_type": "code",
   "execution_count": 22,
   "metadata": {},
   "outputs": [
    {
     "data": {
      "text/plain": [
       "array([[ 1. ,  0. ,  0. ,  0. ],\n",
       "       [ 3. ,  2.5,  0. ,  0. ],\n",
       "       [ 1. , -3.7, 11. ,  0. ]])"
      ]
     },
     "execution_count": 22,
     "metadata": {},
     "output_type": "execute_result"
    }
   ],
   "source": [
    "#(1) Define `matrix_06`\n",
    "matrix_06 = np.tril(m=matrix_05, k=0)\n",
    "\n",
    "#(2) Print `matrix_06`\n",
    "matrix_06"
   ]
  },
  {
   "cell_type": "markdown",
   "metadata": {},
   "source": [
    "#### 02.3. **기존 데이터 기반 상삼각행렬 생성 : `np.triu()`**\n",
    "#### $ \\text{matrix\\_05} = \\begin{bmatrix} 1&3&2&6 \\\\ 3&2.5&4&-3 \\\\ 1&-3.7&11&-2 \\end{bmatrix}, \\;\\; \\text{define matrix\\_07} = \\begin{bmatrix} 0&3&2&6 \\\\ 0&0&4&-3 \\\\ 0&0&0&-2 \\end{bmatrix}. $"
   ]
  },
  {
   "cell_type": "code",
   "execution_count": 23,
   "metadata": {},
   "outputs": [
    {
     "data": {
      "text/plain": [
       "array([[ 0.,  3.,  2.,  6.],\n",
       "       [ 0.,  0.,  4., -3.],\n",
       "       [ 0.,  0.,  0., -2.]])"
      ]
     },
     "execution_count": 23,
     "metadata": {},
     "output_type": "execute_result"
    }
   ],
   "source": [
    "#(1) Define `matrix_07`\n",
    "matrix_07 = np.triu(m=matrix_05, k=1)\n",
    "\n",
    "#(2) Print `matrix_07`\n",
    "matrix_07"
   ]
  },
  {
   "cell_type": "markdown",
   "metadata": {},
   "source": [
    "<b></b>"
   ]
  },
  {
   "cell_type": "markdown",
   "metadata": {},
   "source": [
    "## 03. **기타 행렬 생성**"
   ]
  },
  {
   "cell_type": "markdown",
   "metadata": {},
   "source": [
    "#### 03.1. **영행렬 생성 : `np.zeros()`**\n",
    "#### $ \\text{define matrix\\_08} = \\begin{bmatrix} 0&0&0&0 \\\\ 0&0&0&0 \\\\ 0&0&0&0 \\end{bmatrix}. $"
   ]
  },
  {
   "cell_type": "code",
   "execution_count": 24,
   "metadata": {},
   "outputs": [
    {
     "data": {
      "text/plain": [
       "array([[0, 0, 0, 0],\n",
       "       [0, 0, 0, 0],\n",
       "       [0, 0, 0, 0]])"
      ]
     },
     "execution_count": 24,
     "metadata": {},
     "output_type": "execute_result"
    }
   ],
   "source": [
    "#(1) Define `matrix_08`\n",
    "matrix_08 = np.zeros(shape=(3, 4), dtype=np.int64)\n",
    "\n",
    "#(2) Print `matrix_08`\n",
    "matrix_08"
   ]
  },
  {
   "cell_type": "markdown",
   "metadata": {},
   "source": [
    "#### 03.2. **모든 성분이 1인 행렬 생성 : `np.ones()`**\n",
    "#### $ \\text{define matrix\\_09} = \\begin{bmatrix} 1&1&1 \\\\ 1&1&1 \\\\ 1&1&1 \\end{bmatrix}. $"
   ]
  },
  {
   "cell_type": "code",
   "execution_count": 25,
   "metadata": {},
   "outputs": [
    {
     "data": {
      "text/plain": [
       "array([[1, 1, 1],\n",
       "       [1, 1, 1],\n",
       "       [1, 1, 1]])"
      ]
     },
     "execution_count": 25,
     "metadata": {},
     "output_type": "execute_result"
    }
   ],
   "source": [
    "#(1) Define `matrix_09`\n",
    "matrix_09 = np.ones(shape=(3, 3), dtype=np.int64)\n",
    "\n",
    "#(2) Print `matrix_09`\n",
    "matrix_09"
   ]
  },
  {
   "cell_type": "markdown",
   "metadata": {},
   "source": [
    "#### 03.3. **모든 성분이 특정 값인 행렬 생성 : `np.full()`**\n",
    "#### $ \\text{define matrix\\_10} = \\begin{bmatrix} 8&8&8&8&8 \\\\ 8&8&8&8&8 \\\\ 8&8&8&8&8 \\\\ 8&8&8&8&8 \\\\ 8&8&8&8&8 \\end{bmatrix}. $"
   ]
  },
  {
   "cell_type": "code",
   "execution_count": 26,
   "metadata": {},
   "outputs": [
    {
     "data": {
      "text/plain": [
       "array([[8, 8, 8, 8, 8],\n",
       "       [8, 8, 8, 8, 8],\n",
       "       [8, 8, 8, 8, 8],\n",
       "       [8, 8, 8, 8, 8],\n",
       "       [8, 8, 8, 8, 8]])"
      ]
     },
     "execution_count": 26,
     "metadata": {},
     "output_type": "execute_result"
    }
   ],
   "source": [
    "#(1) Define `matrix_10`\n",
    "matrix_10 = np.full(shape=(5, 5), fill_value=8, dtype=np.int64)\n",
    "\n",
    "#(2) Print `matrix_10`\n",
    "matrix_10"
   ]
  },
  {
   "cell_type": "markdown",
   "metadata": {},
   "source": [
    "#### 03.4. **정방대각행렬 생성 : `np.diagflat()`**\n",
    "#### $ \\text{define matrix\\_11} = \\begin{bmatrix} 1&0&0&0 \\\\ 0&2&0&0 \\\\ 0&0&6&0 \\\\ 0&0&0&7 \\end{bmatrix}. $"
   ]
  },
  {
   "cell_type": "code",
   "execution_count": 27,
   "metadata": {},
   "outputs": [
    {
     "data": {
      "text/plain": [
       "array([[1, 0, 0, 0],\n",
       "       [0, 2, 0, 0],\n",
       "       [0, 0, 6, 0],\n",
       "       [0, 0, 0, 7]])"
      ]
     },
     "execution_count": 27,
     "metadata": {},
     "output_type": "execute_result"
    }
   ],
   "source": [
    "#(1) Define `matrix_11`\n",
    "matrix_11 = np.diagflat(v=[1, 2, 6, 7], k=0)\n",
    "\n",
    "#(2) Print `matrix_11`\n",
    "matrix_11"
   ]
  },
  {
   "cell_type": "markdown",
   "metadata": {},
   "source": [
    "<b></b>"
   ]
  },
  {
   "cell_type": "markdown",
   "metadata": {},
   "source": [
    "## 04. **난수 기반 행렬 생성**"
   ]
  },
  {
   "cell_type": "markdown",
   "metadata": {},
   "source": [
    "#### 04.1. **균등분포를 따르는 정수인 행렬 생성 : `np.random.randint()`**\n",
    "#### $ \\text{define matrix\\_11} = \\begin{bmatrix} a_{11}&a_{12}&a_{13} \\\\ a_{21}&a_{22}&a_{23} \\\\ a_{31}&a_{32}&a_{33} \\end{bmatrix} \\;\\; \\text{ where } \\, a_{ik} \\in{} \\{ \\mathbb{Z} \\; | \\; 1 \\leqq{} \\mathbb{Z} \\leqq{} 10 \\} \\; \\text{ and } \\, a_{ik} \\sim{} \\text{Uniform}(0, 10) $"
   ]
  },
  {
   "cell_type": "code",
   "execution_count": 28,
   "metadata": {},
   "outputs": [
    {
     "data": {
      "text/plain": [
       "array([[6, 9, 4],\n",
       "       [7, 8, 9],\n",
       "       [9, 2, 1]])"
      ]
     },
     "execution_count": 28,
     "metadata": {},
     "output_type": "execute_result"
    }
   ],
   "source": [
    "#(1) Define `matrix_11`\n",
    "matrix_11 = np.random.randint(low=1, high=10, size=(3,3))\n",
    "\n",
    "#(2) Print `matrix_11`\n",
    "matrix_11"
   ]
  },
  {
   "cell_type": "markdown",
   "metadata": {},
   "source": [
    "#### 04.2. **$ 0 $ 과 $ 1 $ 사이의 균등분포를 따르는 실수인 행렬 생성 : `np.random.rand()`**\n",
    "#### $ \\text{define matrix\\_12} =\\begin{bmatrix} a_{11}&a_{12}&a_{13} \\\\ a_{21}&a_{22}&a_{23} \\\\ a_{31}&a_{32}&a_{33} \\end{bmatrix} \\;\\; \\text{ where } \\, a_{ik} \\in{} \\{ \\mathbb{R} \\; | \\; 0 \\leqq{} \\mathbb{R} \\leqq{} 1 \\} \\; \\text{ and } \\, a_{ik} \\sim{} \\text{Uniform}(0, 1) $"
   ]
  },
  {
   "cell_type": "code",
   "execution_count": 29,
   "metadata": {},
   "outputs": [
    {
     "data": {
      "text/plain": [
       "array([[0.92065502, 0.56183961, 0.98524443],\n",
       "       [0.7064625 , 0.80490051, 0.74182336],\n",
       "       [0.03117722, 0.56479419, 0.66679569]])"
      ]
     },
     "execution_count": 29,
     "metadata": {},
     "output_type": "execute_result"
    }
   ],
   "source": [
    "#(1) Define `matrix_12`\n",
    "matrix_12 = np.random.rand(3, 3)\n",
    "\n",
    "#(2) Print `matrix_12`\n",
    "matrix_12"
   ]
  },
  {
   "cell_type": "markdown",
   "metadata": {},
   "source": [
    "#### 04.3. **정규분포를 따르는 실수인 행렬 생성 : `np.random.normal()`**\n",
    "#### $ \\text{define matrix\\_13} = \\begin{bmatrix} a_{11}&a_{12}&a_{13} \\\\ a_{21}&a_{22}&a_{23} \\\\ a_{31}&a_{32}&a_{33} \\end{bmatrix} \\;\\; \\text{ where } \\, a_{ik} \\in{} \\{ \\mathbb{R} \\; | \\; 0 \\leqq{} \\mathbb{R} \\leqq{} 1 \\} \\; \\text{ and } \\, a_{ik} \\sim{} N(\\mu{}, \\sigma{}^{2}) $"
   ]
  },
  {
   "cell_type": "code",
   "execution_count": 30,
   "metadata": {},
   "outputs": [
    {
     "data": {
      "text/plain": [
       "array([[ 0.6434122 ,  0.50024934, -0.47149534],\n",
       "       [ 1.7499768 ,  2.15323835, -0.25894683],\n",
       "       [-0.71809634, -1.35233516,  1.21124891]])"
      ]
     },
     "execution_count": 30,
     "metadata": {},
     "output_type": "execute_result"
    }
   ],
   "source": [
    "#(1) Define `matrix_13`\n",
    "matrix_13 = np.random.normal(loc=0, scale=1, size=(3,3))\n",
    "\n",
    "#(2) Print `matrix_13`\n",
    "matrix_13"
   ]
  },
  {
   "cell_type": "markdown",
   "metadata": {},
   "source": [
    "#### 04.4. **표준정규분포를 따르는 실수인 행렬 생성 : `np.random.randn()`**\n",
    "#### $ \\text{define matrix\\_14} = \\begin{bmatrix} a_{11}&a_{12}&a_{13} \\\\ a_{21}&a_{22}&a_{23} \\\\ a_{31}&a_{32}&a_{33} \\end{bmatrix} \\;\\; \\text{ where } \\, a_{ik} \\in{} \\{ \\mathbb{R} \\; | \\; 0 \\leqq{} \\mathbb{R} \\leqq{} 1 \\} \\; \\text{ and } \\, a_{ik} \\sim{} Z(0, 1) $"
   ]
  },
  {
   "cell_type": "code",
   "execution_count": 31,
   "metadata": {},
   "outputs": [
    {
     "data": {
      "text/plain": [
       "array([[-0.81369682, -0.07455861, -1.53925959],\n",
       "       [ 1.45587653,  1.73773739,  0.99352668],\n",
       "       [-0.70364519,  2.06216585, -0.36871186]])"
      ]
     },
     "execution_count": 31,
     "metadata": {},
     "output_type": "execute_result"
    }
   ],
   "source": [
    "#(1) Define `matrix_14`\n",
    "matrix_14 = np.random.randn(3, 3)\n",
    "\n",
    "#(2) Print `matrix_14`\n",
    "matrix_14"
   ]
  }
 ],
 "metadata": {
  "kernelspec": {
   "display_name": "SCKLN",
   "language": "python",
   "name": "python3"
  },
  "language_info": {
   "codemirror_mode": {
    "name": "ipython",
    "version": 3
   },
   "file_extension": ".py",
   "mimetype": "text/x-python",
   "name": "python",
   "nbconvert_exporter": "python",
   "pygments_lexer": "ipython3",
   "version": "3.8.20"
  }
 },
 "nbformat": 4,
 "nbformat_minor": 2
}
