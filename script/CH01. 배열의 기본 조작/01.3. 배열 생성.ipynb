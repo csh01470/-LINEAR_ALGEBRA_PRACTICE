{
 "cells": [
  {
   "cell_type": "markdown",
   "metadata": {},
   "source": [
    "## CH01.3. **기본 배열 생성**"
   ]
  },
  {
   "cell_type": "markdown",
   "metadata": {},
   "source": [
    "## 00. **작업 환경 설정**"
   ]
  },
  {
   "cell_type": "markdown",
   "metadata": {},
   "source": [
    "#### 00.1. **라이브러리 호출 및 옵션 설정**"
   ]
  },
  {
   "cell_type": "code",
   "execution_count": 1,
   "metadata": {},
   "outputs": [],
   "source": [
    "import numpy as np"
   ]
  },
  {
   "cell_type": "markdown",
   "metadata": {},
   "source": [
    "<b></b>"
   ]
  },
  {
   "cell_type": "markdown",
   "metadata": {},
   "source": [
    "## 01. **항등행렬 생성**"
   ]
  },
  {
   "cell_type": "markdown",
   "metadata": {},
   "source": [
    "#### 01.1. **정방항등행렬(단위항등행렬) 생성 : `np.identity()`**\n",
    "#### $ \\text{define mat\\_01} = \\begin{bmatrix} 1&0&0 \\\\ 0&1&0 \\\\ 0&0&1 \\end{bmatrix}. $"
   ]
  },
  {
   "cell_type": "code",
   "execution_count": 2,
   "metadata": {},
   "outputs": [
    {
     "data": {
      "text/plain": [
       "array([[1, 0, 0],\n",
       "       [0, 1, 0],\n",
       "       [0, 0, 1]])"
      ]
     },
     "execution_count": 2,
     "metadata": {},
     "output_type": "execute_result"
    }
   ],
   "source": [
    "#(1) Define `mat_01`\n",
    "mat_01 = np.identity(n=3, dtype=np.int64)\n",
    "\n",
    "#(2) Print `mat_01`\n",
    "mat_01"
   ]
  },
  {
   "cell_type": "markdown",
   "metadata": {},
   "source": [
    "#### 01.2. **정방항등행렬 생성 : `np.eye()`**\n",
    "#### $ \\text{define mat\\_02} = \\begin{bmatrix} 1&0&0 \\\\ 0&1&0 \\\\ 0&0&1 \\end{bmatrix}. $"
   ]
  },
  {
   "cell_type": "code",
   "execution_count": 3,
   "metadata": {},
   "outputs": [
    {
     "data": {
      "text/plain": [
       "array([[1, 0, 0],\n",
       "       [0, 1, 0],\n",
       "       [0, 0, 1]])"
      ]
     },
     "execution_count": 3,
     "metadata": {},
     "output_type": "execute_result"
    }
   ],
   "source": [
    "#(1) Define `mat_02`\n",
    "mat_02 = np.eye(N=3, M=3, dtype=np.int64)\n",
    "\n",
    "#(2) Print `mat_02`\n",
    "mat_02"
   ]
  },
  {
   "cell_type": "markdown",
   "metadata": {},
   "source": [
    "#### 01.3. **이동항등행렬(shift identity mat) 생성 : `np.eye(···, k)`** \n",
    "#### $ \\text{define mat\\_03} = \\begin{bmatrix} 0&1&0&0 \\\\ 0&0&1&0 \\\\ 0&0&0&1 \\end{bmatrix}. $"
   ]
  },
  {
   "cell_type": "code",
   "execution_count": 4,
   "metadata": {},
   "outputs": [
    {
     "data": {
      "text/plain": [
       "array([[0, 1, 0, 0],\n",
       "       [0, 0, 1, 0],\n",
       "       [0, 0, 0, 1]], dtype=int32)"
      ]
     },
     "execution_count": 4,
     "metadata": {},
     "output_type": "execute_result"
    }
   ],
   "source": [
    "#(1) Define `mat_03`\n",
    "mat_03 = np.eye(N=3, M=4, k=1, dtype=np.int32)\n",
    "\n",
    "#(2) Print `mat_03`\n",
    "mat_03"
   ]
  },
  {
   "cell_type": "markdown",
   "metadata": {},
   "source": [
    "#### **(`PLUS`)** 인자 `K`는 band id라고 정의함"
   ]
  },
  {
   "cell_type": "markdown",
   "metadata": {},
   "source": [
    "<b></b>"
   ]
  },
  {
   "cell_type": "markdown",
   "metadata": {},
   "source": [
    "## 02. **삼각행렬 생성**"
   ]
  },
  {
   "cell_type": "markdown",
   "metadata": {},
   "source": [
    "#### 02.1. **단위 하삼각행렬 생성 : `np.tri()`**\n",
    "#### $ \\text{define mat\\_04} = \\begin{bmatrix} 1&0&0 \\\\ 1&1&0 \\\\ 1&1&1 \\end{bmatrix}. $"
   ]
  },
  {
   "cell_type": "code",
   "execution_count": 5,
   "metadata": {},
   "outputs": [
    {
     "data": {
      "text/plain": [
       "array([[1, 0, 0],\n",
       "       [1, 1, 0],\n",
       "       [1, 1, 1]])"
      ]
     },
     "execution_count": 5,
     "metadata": {},
     "output_type": "execute_result"
    }
   ],
   "source": [
    "#(1) Define `mat_04`\n",
    "mat_04 = np.tri(N=3, M=3, k=0, dtype=np.int64)\n",
    "\n",
    "#(2) Print `mat_04`\n",
    "mat_04"
   ]
  },
  {
   "cell_type": "markdown",
   "metadata": {},
   "source": [
    "#### 02.2. **데이터 기반 하삼각행렬 생성 : `np.tril()`**\n",
    "#### $ \\text{define mat\\_05} = \\begin{bmatrix} 1&3&2&6 \\\\ 3&2.5&4&-3 \\\\ 1&-3.7&11&-2 \\end{bmatrix}, \\;\\; \\text{mat\\_06} = \\begin{bmatrix} 1&0&0&0 \\\\ 3&2.5&0&0 \\\\ 1&-3.7&11&0 \\end{bmatrix}. $"
   ]
  },
  {
   "cell_type": "code",
   "execution_count": 6,
   "metadata": {},
   "outputs": [
    {
     "data": {
      "text/plain": [
       "array([[ 1. ,  3. ,  2. ,  6. ],\n",
       "       [ 3. ,  2.5,  4. , -3. ],\n",
       "       [ 1. , -3.7, 11. , -2. ]])"
      ]
     },
     "execution_count": 6,
     "metadata": {},
     "output_type": "execute_result"
    }
   ],
   "source": [
    "#(1) Define `mat_05`\n",
    "mat_05 = np.array(object=[[1, 3, 2, 6], [3, 2.5, 4, -3], [1, -3.7, 11, -2]])\n",
    "\n",
    "#(2) Print `mat_05`\n",
    "mat_05"
   ]
  },
  {
   "cell_type": "code",
   "execution_count": 7,
   "metadata": {},
   "outputs": [
    {
     "data": {
      "text/plain": [
       "array([[ 1. ,  0. ,  0. ,  0. ],\n",
       "       [ 3. ,  2.5,  0. ,  0. ],\n",
       "       [ 1. , -3.7, 11. ,  0. ]])"
      ]
     },
     "execution_count": 7,
     "metadata": {},
     "output_type": "execute_result"
    }
   ],
   "source": [
    "#(1) Define `mat_06`\n",
    "mat_06 = np.tril(m=mat_05, k=0)\n",
    "\n",
    "#(2) Print `mat_06`\n",
    "mat_06"
   ]
  },
  {
   "cell_type": "markdown",
   "metadata": {},
   "source": [
    "#### 02.3. **기존 데이터 기반 상삼각행렬 생성 : `np.triu()`**\n",
    "#### $ \\text{mat\\_05} = \\begin{bmatrix} 1&3&2&6 \\\\ 3&2.5&4&-3 \\\\ 1&-3.7&11&-2 \\end{bmatrix}, \\;\\; \\text{define mat\\_07} = \\begin{bmatrix} 0&3&2&6 \\\\ 0&0&4&-3 \\\\ 0&0&0&-2 \\end{bmatrix}. $"
   ]
  },
  {
   "cell_type": "code",
   "execution_count": 8,
   "metadata": {},
   "outputs": [
    {
     "data": {
      "text/plain": [
       "array([[ 0.,  3.,  2.,  6.],\n",
       "       [ 0.,  0.,  4., -3.],\n",
       "       [ 0.,  0.,  0., -2.]])"
      ]
     },
     "execution_count": 8,
     "metadata": {},
     "output_type": "execute_result"
    }
   ],
   "source": [
    "#(1) Define `mat_07`\n",
    "mat_07 = np.triu(m=mat_05, k=1)\n",
    "\n",
    "#(2) Print `mat_07`\n",
    "mat_07"
   ]
  },
  {
   "cell_type": "markdown",
   "metadata": {},
   "source": [
    "<b></b>"
   ]
  },
  {
   "cell_type": "markdown",
   "metadata": {},
   "source": [
    "## 03. **기타 행렬 생성**"
   ]
  },
  {
   "cell_type": "markdown",
   "metadata": {},
   "source": [
    "#### 03.1. **영행렬 생성 : `np.zeros()`**\n",
    "#### $ \\text{define mat\\_08} = \\begin{bmatrix} 0&0&0&0 \\\\ 0&0&0&0 \\\\ 0&0&0&0 \\end{bmatrix}. $"
   ]
  },
  {
   "cell_type": "code",
   "execution_count": 9,
   "metadata": {},
   "outputs": [
    {
     "data": {
      "text/plain": [
       "array([[0, 0, 0, 0],\n",
       "       [0, 0, 0, 0],\n",
       "       [0, 0, 0, 0]])"
      ]
     },
     "execution_count": 9,
     "metadata": {},
     "output_type": "execute_result"
    }
   ],
   "source": [
    "#(1) Define `mat_08`\n",
    "mat_08 = np.zeros(shape=(3, 4), dtype=np.int64)\n",
    "\n",
    "#(2) Print `mat_08`\n",
    "mat_08"
   ]
  },
  {
   "cell_type": "markdown",
   "metadata": {},
   "source": [
    "#### 03.2. **모든 성분이 1인 행렬 생성 : `np.ones()`**\n",
    "#### $ \\text{define mat\\_09} = \\begin{bmatrix} 1&1&1 \\\\ 1&1&1 \\\\ 1&1&1 \\end{bmatrix}. $"
   ]
  },
  {
   "cell_type": "code",
   "execution_count": 10,
   "metadata": {},
   "outputs": [
    {
     "data": {
      "text/plain": [
       "array([[1, 1, 1],\n",
       "       [1, 1, 1],\n",
       "       [1, 1, 1]])"
      ]
     },
     "execution_count": 10,
     "metadata": {},
     "output_type": "execute_result"
    }
   ],
   "source": [
    "#(1) Define `mat_09`\n",
    "mat_09 = np.ones(shape=(3, 3), dtype=np.int64)\n",
    "\n",
    "#(2) Print `mat_09`\n",
    "mat_09"
   ]
  },
  {
   "cell_type": "markdown",
   "metadata": {},
   "source": [
    "#### 03.3. **모든 성분이 특정 값인 행렬 생성 : `np.full()`**\n",
    "#### $ \\text{define mat\\_10} = \\begin{bmatrix} 8&8&8&8&8 \\\\ 8&8&8&8&8 \\\\ 8&8&8&8&8 \\\\ 8&8&8&8&8 \\\\ 8&8&8&8&8 \\end{bmatrix}. $"
   ]
  },
  {
   "cell_type": "code",
   "execution_count": 11,
   "metadata": {},
   "outputs": [
    {
     "data": {
      "text/plain": [
       "array([[8, 8, 8, 8, 8],\n",
       "       [8, 8, 8, 8, 8],\n",
       "       [8, 8, 8, 8, 8],\n",
       "       [8, 8, 8, 8, 8],\n",
       "       [8, 8, 8, 8, 8]])"
      ]
     },
     "execution_count": 11,
     "metadata": {},
     "output_type": "execute_result"
    }
   ],
   "source": [
    "#(1) Define `mat_10`\n",
    "mat_10 = np.full(shape=(5, 5), fill_value=8, dtype=np.int64)\n",
    "\n",
    "#(2) Print `mat_10`\n",
    "mat_10"
   ]
  },
  {
   "cell_type": "markdown",
   "metadata": {},
   "source": [
    "#### 03.4. **정방대각행렬 생성 : `np.diagflat()`**\n",
    "#### $ \\text{define mat\\_11} = \\begin{bmatrix} 1&0&0&0 \\\\ 0&2&0&0 \\\\ 0&0&6&0 \\\\ 0&0&0&7 \\end{bmatrix}. $"
   ]
  },
  {
   "cell_type": "code",
   "execution_count": 12,
   "metadata": {},
   "outputs": [
    {
     "data": {
      "text/plain": [
       "array([[1, 0, 0, 0],\n",
       "       [0, 2, 0, 0],\n",
       "       [0, 0, 6, 0],\n",
       "       [0, 0, 0, 7]])"
      ]
     },
     "execution_count": 12,
     "metadata": {},
     "output_type": "execute_result"
    }
   ],
   "source": [
    "#(1) Define `mat_11`\n",
    "mat_11 = np.diagflat(v=[1, 2, 6, 7], k=0)\n",
    "\n",
    "#(2) Print `mat_11`\n",
    "mat_11"
   ]
  },
  {
   "cell_type": "markdown",
   "metadata": {},
   "source": [
    "<b></b>"
   ]
  },
  {
   "cell_type": "markdown",
   "metadata": {},
   "source": [
    "## 04. **난수 기반 행렬 생성**"
   ]
  },
  {
   "cell_type": "markdown",
   "metadata": {},
   "source": [
    "#### 04.1. **균등분포를 따르는 정수인 행렬 생성 : `np.random.randint()`**\n",
    "#### $ \\text{define mat\\_11} = \\begin{bmatrix} a_{11}&a_{12}&a_{13} \\\\ a_{21}&a_{22}&a_{23} \\\\ a_{31}&a_{32}&a_{33} \\end{bmatrix} \\;\\; \\text{ where } \\, a_{ik} \\in{} \\{ \\mathbb{Z} \\; | \\; 1 \\leqq{} \\mathbb{Z} \\leqq{} 10 \\} \\; \\text{ and } \\, a_{ik} \\sim{} \\text{Uniform}(0, 10) $"
   ]
  },
  {
   "cell_type": "code",
   "execution_count": 13,
   "metadata": {},
   "outputs": [
    {
     "data": {
      "text/plain": [
       "array([[3, 2, 7],\n",
       "       [3, 4, 1],\n",
       "       [4, 5, 1]])"
      ]
     },
     "execution_count": 13,
     "metadata": {},
     "output_type": "execute_result"
    }
   ],
   "source": [
    "#(1) Define `mat_11`\n",
    "mat_11 = np.random.randint(low=1, high=10, size=(3,3))\n",
    "\n",
    "#(2) Print `mat_11`\n",
    "mat_11"
   ]
  },
  {
   "cell_type": "markdown",
   "metadata": {},
   "source": [
    "#### 04.2. **$ 0 $ 과 $ 1 $ 사이의 균등분포를 따르는 실수인 행렬 생성 : `np.random.rand()`**\n",
    "#### $ \\text{define mat\\_12} =\\begin{bmatrix} a_{11}&a_{12}&a_{13} \\\\ a_{21}&a_{22}&a_{23} \\\\ a_{31}&a_{32}&a_{33} \\end{bmatrix} \\;\\; \\text{ where } \\, a_{ik} \\in{} \\{ \\mathbb{R} \\; | \\; 0 \\leqq{} \\mathbb{R} \\leqq{} 1 \\} \\; \\text{ and } \\, a_{ik} \\sim{} \\text{Uniform}(0, 1) $"
   ]
  },
  {
   "cell_type": "code",
   "execution_count": 14,
   "metadata": {},
   "outputs": [
    {
     "data": {
      "text/plain": [
       "array([[0.58854337, 0.23400353, 0.95699017],\n",
       "       [0.41688298, 0.22677534, 0.15757783],\n",
       "       [0.18931488, 0.6742292 , 0.58210072]])"
      ]
     },
     "execution_count": 14,
     "metadata": {},
     "output_type": "execute_result"
    }
   ],
   "source": [
    "#(1) Define `mat_12`\n",
    "mat_12 = np.random.rand(3, 3)\n",
    "\n",
    "#(2) Print `mat_12`\n",
    "mat_12"
   ]
  },
  {
   "cell_type": "markdown",
   "metadata": {},
   "source": [
    "#### 04.3. **정규분포를 따르는 실수인 행렬 생성 : `np.random.normal()`**\n",
    "#### $ \\text{define mat\\_13} = \\begin{bmatrix} a_{11}&a_{12}&a_{13} \\\\ a_{21}&a_{22}&a_{23} \\\\ a_{31}&a_{32}&a_{33} \\end{bmatrix} \\;\\; \\text{ where } \\, a_{ik} \\in{} \\{ \\mathbb{R} \\; | \\; 0 \\leqq{} \\mathbb{R} \\leqq{} 1 \\} \\; \\text{ and } \\, a_{ik} \\sim{} N(\\mu{}, \\sigma{}^{2}) $"
   ]
  },
  {
   "cell_type": "code",
   "execution_count": 15,
   "metadata": {},
   "outputs": [
    {
     "data": {
      "text/plain": [
       "array([[ 2.43096306,  0.39587463,  0.55774587],\n",
       "       [ 0.91679359,  0.93463195, -0.23722509],\n",
       "       [ 0.66279141, -0.35140225,  0.20086561]])"
      ]
     },
     "execution_count": 15,
     "metadata": {},
     "output_type": "execute_result"
    }
   ],
   "source": [
    "#(1) Define `mat_13`\n",
    "mat_13 = np.random.normal(loc=0, scale=1, size=(3,3))\n",
    "\n",
    "#(2) Print `mat_13`\n",
    "mat_13"
   ]
  },
  {
   "cell_type": "markdown",
   "metadata": {},
   "source": [
    "#### 04.4. **표준정규분포를 따르는 실수인 행렬 생성 : `np.random.randn()`**\n",
    "#### $ \\text{define mat\\_14} = \\begin{bmatrix} a_{11}&a_{12}&a_{13} \\\\ a_{21}&a_{22}&a_{23} \\\\ a_{31}&a_{32}&a_{33} \\end{bmatrix} \\;\\; \\text{ where } \\, a_{ik} \\in{} \\{ \\mathbb{R} \\; | \\; 0 \\leqq{} \\mathbb{R} \\leqq{} 1 \\} \\; \\text{ and } \\, a_{ik} \\sim{} Z(0, 1) $"
   ]
  },
  {
   "cell_type": "code",
   "execution_count": 16,
   "metadata": {},
   "outputs": [
    {
     "data": {
      "text/plain": [
       "array([[ 0.40217254, -1.35057545, -1.1252656 ],\n",
       "       [ 0.59459544, -1.34121083, -0.95639315],\n",
       "       [-0.78790358, -0.24660682,  0.94996717]])"
      ]
     },
     "execution_count": 16,
     "metadata": {},
     "output_type": "execute_result"
    }
   ],
   "source": [
    "#(1) Define `mat_14`\n",
    "mat_14 = np.random.randn(3, 3)\n",
    "\n",
    "#(2) Print `mat_14`\n",
    "mat_14"
   ]
  }
 ],
 "metadata": {
  "kernelspec": {
   "display_name": "SCKLN",
   "language": "python",
   "name": "python3"
  },
  "language_info": {
   "codemirror_mode": {
    "name": "ipython",
    "version": 3
   },
   "file_extension": ".py",
   "mimetype": "text/x-python",
   "name": "python",
   "nbconvert_exporter": "python",
   "pygments_lexer": "ipython3",
   "version": "3.8.20"
  }
 },
 "nbformat": 4,
 "nbformat_minor": 2
}
