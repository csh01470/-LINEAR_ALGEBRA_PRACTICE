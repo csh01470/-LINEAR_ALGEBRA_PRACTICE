{
 "cells": [
  {
   "cell_type": "markdown",
   "metadata": {},
   "source": [
    "# CH01.5. **배열 연산**"
   ]
  },
  {
   "cell_type": "markdown",
   "metadata": {},
   "source": [
    "## 00. **작업 환경 설정**"
   ]
  },
  {
   "cell_type": "markdown",
   "metadata": {},
   "source": [
    "#### 00.1. **라이브러리 호출 및 옵션 설정**"
   ]
  },
  {
   "cell_type": "code",
   "execution_count": 21,
   "metadata": {},
   "outputs": [],
   "source": [
    "import numpy as np"
   ]
  },
  {
   "cell_type": "markdown",
   "metadata": {},
   "source": [
    "<b></b>"
   ]
  },
  {
   "cell_type": "markdown",
   "metadata": {},
   "source": [
    "## 01. **배열의 합**"
   ]
  },
  {
   "cell_type": "markdown",
   "metadata": {},
   "source": [
    "#### 01.1. **행렬-스칼라 합** (By broad-casting)\n",
    "#### $ \\text{mat\\_01} = \\begin{bmatrix} 1&3&-5 \\\\ 2&0&-4 \\\\ 3&2&1 \\end{bmatrix}, \\;\\; \\begin{bmatrix} 3&3&3 \\\\ 3&3&3 \\\\ 3&3&3 \\end{bmatrix} + \\text{mat\\_01} = ? $"
   ]
  },
  {
   "cell_type": "code",
   "execution_count": 22,
   "metadata": {},
   "outputs": [
    {
     "data": {
      "text/plain": [
       "array([[ 1,  3, -5],\n",
       "       [ 2,  0, -4],\n",
       "       [ 3,  2,  1]])"
      ]
     },
     "execution_count": 22,
     "metadata": {},
     "output_type": "execute_result"
    }
   ],
   "source": [
    "#(1) Define `mat_01`\n",
    "mat_01 = np.array(object=[[1, 3, -5], [2, 0, -4], [3, 2, 1]], dtype=np.int64)\n",
    "\n",
    "#(2) Print `mat_01`\n",
    "mat_01"
   ]
  },
  {
   "cell_type": "code",
   "execution_count": 23,
   "metadata": {},
   "outputs": [
    {
     "data": {
      "text/plain": [
       "array([[ 4,  6, -2],\n",
       "       [ 5,  3, -1],\n",
       "       [ 6,  5,  4]])"
      ]
     },
     "execution_count": 23,
     "metadata": {},
     "output_type": "execute_result"
    }
   ],
   "source": [
    "#(3) Print `mat_01` + 3\n",
    "mat_01 + 3"
   ]
  },
  {
   "cell_type": "markdown",
   "metadata": {},
   "source": [
    "#### **(`PLUS`)** 브로드 캐스팅(Broad Casting) : \n",
    "#### $ \\hspace{0.15cm} \\cdot{} $ 더 작은 배열을 자동으로 더 큰 배열의 크기에 맞춰 확장하는 메커니즘\n",
    "#### $ \\hspace{0.15cm} \\cdot{} $ 연산기호 `*`을 이용하면 브로드캐스팅을 이용하여 연산 처리"
   ]
  },
  {
   "cell_type": "markdown",
   "metadata": {},
   "source": [
    "#### 01.2. **행렬-벡터 합**\n",
    "#### $ \\text{mat\\_01} = \\begin{bmatrix} 1&3&-5 \\\\ 2&0&-4 \\\\ 3&2&1 \\end{bmatrix}, \\;\\; \\text{vec\\_01} = \\begin{bmatrix} -3&2&0 \\end{bmatrix}, \\;\\; \\begin{bmatrix} \\text{vec\\_01} \\\\ \\text{vec\\_01} \\\\ \\text{vec\\_01} \\end{bmatrix} + \\text{mat\\_01} = ? $"
   ]
  },
  {
   "cell_type": "code",
   "execution_count": 24,
   "metadata": {},
   "outputs": [
    {
     "data": {
      "text/plain": [
       "array([-3,  2,  0])"
      ]
     },
     "execution_count": 24,
     "metadata": {},
     "output_type": "execute_result"
    }
   ],
   "source": [
    "#(1) Define `vec_01`\n",
    "vec_01 = np.array(object=[-3, 2, 0])\n",
    "\n",
    "#(2) Print `vec_01`\n",
    "vec_01"
   ]
  },
  {
   "cell_type": "code",
   "execution_count": 25,
   "metadata": {},
   "outputs": [
    {
     "data": {
      "text/plain": [
       "array([[-2,  5, -5],\n",
       "       [-1,  2, -4],\n",
       "       [ 0,  4,  1]])"
      ]
     },
     "execution_count": 25,
     "metadata": {},
     "output_type": "execute_result"
    }
   ],
   "source": [
    "#(3) Print `mat_01` + `vec_01`\n",
    "mat_01 + vec_01"
   ]
  },
  {
   "cell_type": "markdown",
   "metadata": {},
   "source": [
    "#### **(`PLUS`)** 두 배열의 사이즈들의 값 중 한 개라도 일치하면 연산이 되지만, 그렇지 않으면 연산되지 않음"
   ]
  },
  {
   "cell_type": "code",
   "execution_count": 26,
   "metadata": {},
   "outputs": [
    {
     "name": "stdout",
     "output_type": "stream",
     "text": [
      ">> AN ERROR OCCURRED. ERROR MESSAGE IS \"operands could not be broadcast together with shapes (3,3) (2,) \".\n"
     ]
    }
   ],
   "source": [
    "#(1) Define `vec_02`\n",
    "vec_02 = np.array(object=[1, 3], dtype=np.int64)\n",
    "\n",
    "#(2) Print `vec_01` + `vec_02`\n",
    "try : \n",
    "    mat_01 + vec_02\n",
    "except ValueError as error : \n",
    "    print(f'>> AN ERROR OCCURRED. ERROR MESSAGE IS \"{error}\".')"
   ]
  },
  {
   "cell_type": "markdown",
   "metadata": {},
   "source": [
    "#### 01.3. **행렬-행렬 합**\n",
    "#### $ \\text{mat\\_01} = \\begin{bmatrix} 1&3&-5 \\\\ 2&0&-4 \\\\ 3&2&1 \\end{bmatrix}, \\;\\; \\text{mat\\_02} = \\begin{bmatrix} 3&0&2 \\\\ 2&0&0 \\\\ 1.1&-3&6.5 \\end{bmatrix}, \\;\\; \\text{mat\\_01} + \\text{mat\\_02} = ? $"
   ]
  },
  {
   "cell_type": "code",
   "execution_count": 27,
   "metadata": {},
   "outputs": [
    {
     "data": {
      "text/plain": [
       "array([[ 3. ,  0. ,  2. ],\n",
       "       [ 2. ,  0. ,  0. ],\n",
       "       [ 1.1, -3. ,  6.5]])"
      ]
     },
     "execution_count": 27,
     "metadata": {},
     "output_type": "execute_result"
    }
   ],
   "source": [
    "#(1) Define `mat_02`\n",
    "mat_02 = np.array(object=[[3, 0, 2], [2, 0, 0], [1.1, -3, 6.5]])\n",
    "\n",
    "#(2) Print `mat_02`\n",
    "mat_02"
   ]
  },
  {
   "cell_type": "code",
   "execution_count": 28,
   "metadata": {},
   "outputs": [
    {
     "data": {
      "text/plain": [
       "array([[ 4. ,  3. , -3. ],\n",
       "       [ 4. ,  0. , -4. ],\n",
       "       [ 4.1, -1. ,  7.5]])"
      ]
     },
     "execution_count": 28,
     "metadata": {},
     "output_type": "execute_result"
    }
   ],
   "source": [
    "#(3) Print `mat_01` + `mat_02`\n",
    "mat_01 + mat_02"
   ]
  },
  {
   "cell_type": "markdown",
   "metadata": {},
   "source": [
    "<b></b>"
   ]
  },
  {
   "cell_type": "markdown",
   "metadata": {},
   "source": [
    "## 02. **배열의 곱**"
   ]
  },
  {
   "cell_type": "markdown",
   "metadata": {},
   "source": [
    "#### 02.1. **행렬-스칼라 곱**\n",
    "#### $ \\text{mat\\_01} = \\begin{bmatrix} 1&3&-5 \\\\ 2&0&-4 \\\\ 3&2&1 \\end{bmatrix}, \\;\\; 3 \\times{} \\text{mat\\_01} = ? $"
   ]
  },
  {
   "cell_type": "code",
   "execution_count": 29,
   "metadata": {},
   "outputs": [
    {
     "data": {
      "text/plain": [
       "array([[  3,   9, -15],\n",
       "       [  6,   0, -12],\n",
       "       [  9,   6,   3]])"
      ]
     },
     "execution_count": 29,
     "metadata": {},
     "output_type": "execute_result"
    }
   ],
   "source": [
    "#(1) Print 3 * `mat_01`\n",
    "3 * mat_01"
   ]
  },
  {
   "cell_type": "markdown",
   "metadata": {},
   "source": [
    "#### 02.3. **행렬-벡터 곱 : `np.matmul()` or `@`**\n",
    "#### $ \\text{mat\\_01} = \\begin{bmatrix} 1&3&-5 \\\\ 2&0&-4 \\\\ 3&2&1 \\end{bmatrix}, \\;\\; \\text{vec\\_01} = \\begin{bmatrix} -3&2&0 \\end{bmatrix}, \\;\\; \\text{vec\\_01} \\times{} \\text{mat\\_01} = ? $"
   ]
  },
  {
   "cell_type": "code",
   "execution_count": 30,
   "metadata": {},
   "outputs": [
    {
     "data": {
      "text/plain": [
       "array([ 1, -9,  7])"
      ]
     },
     "execution_count": 30,
     "metadata": {},
     "output_type": "execute_result"
    }
   ],
   "source": [
    "#(1) Print `vec_01` * `mat_01`\n",
    "vec_01 @ mat_01"
   ]
  },
  {
   "cell_type": "code",
   "execution_count": 31,
   "metadata": {},
   "outputs": [
    {
     "data": {
      "text/plain": [
       "array([ 1, -9,  7])"
      ]
     },
     "execution_count": 31,
     "metadata": {},
     "output_type": "execute_result"
    }
   ],
   "source": [
    "#(2) Print `vec_01` * `mat_01`\n",
    "np.matmul(vec_01, mat_01)"
   ]
  },
  {
   "cell_type": "markdown",
   "metadata": {},
   "source": [
    "#### 02.3. **행렬-행렬 곱 : `np.matmul()` or `@`**\n",
    "#### $ \\text{mat\\_01} = \\begin{bmatrix} 1&3&-5 \\\\ 2&0&-4 \\\\ 3&2&1 \\end{bmatrix}, \\;\\; \\text{mat\\_02} = \\begin{bmatrix} 3&0&2 \\\\ 2&0&0 \\\\ 1.1&-3&6.5 \\end{bmatrix}, \\;\\; \\text{mat\\_01} \\times{} \\text{mat\\_02} = ? $"
   ]
  },
  {
   "cell_type": "code",
   "execution_count": 32,
   "metadata": {},
   "outputs": [
    {
     "data": {
      "text/plain": [
       "array([[  3.5,  15. , -30.5],\n",
       "       [  1.6,  12. , -22. ],\n",
       "       [ 14.1,  -3. ,  12.5]])"
      ]
     },
     "execution_count": 32,
     "metadata": {},
     "output_type": "execute_result"
    }
   ],
   "source": [
    "#(1) Print `mat_01` @ `mat_02``\n",
    "mat_01 @ mat_02"
   ]
  },
  {
   "cell_type": "code",
   "execution_count": 33,
   "metadata": {},
   "outputs": [
    {
     "data": {
      "text/plain": [
       "array([[  3.5,  15. , -30.5],\n",
       "       [  1.6,  12. , -22. ],\n",
       "       [ 14.1,  -3. ,  12.5]])"
      ]
     },
     "execution_count": 33,
     "metadata": {},
     "output_type": "execute_result"
    }
   ],
   "source": [
    "#(2) Print `mat_01` @ `mat_02``\n",
    "np.matmul(mat_01, mat_02)"
   ]
  },
  {
   "cell_type": "markdown",
   "metadata": {},
   "source": [
    "#### **(`PLUS`)** 브로드캐스팅을 이용할 경우"
   ]
  },
  {
   "cell_type": "code",
   "execution_count": 34,
   "metadata": {},
   "outputs": [
    {
     "data": {
      "text/plain": [
       "array([[  3. ,   0. , -10. ],\n",
       "       [  4. ,   0. ,  -0. ],\n",
       "       [  3.3,  -6. ,   6.5]])"
      ]
     },
     "execution_count": 34,
     "metadata": {},
     "output_type": "execute_result"
    }
   ],
   "source": [
    "#(1) Print `mat_01` * `mat_02`\n",
    "mat_01 * mat_02"
   ]
  },
  {
   "cell_type": "markdown",
   "metadata": {},
   "source": [
    "<b></b>"
   ]
  },
  {
   "cell_type": "markdown",
   "metadata": {},
   "source": [
    "## 03. **배열의 기타 연산**"
   ]
  },
  {
   "cell_type": "markdown",
   "metadata": {},
   "source": [
    "#### 03.1. **내적(Inner product) : `np.vdot()`**\n",
    "#### $ \\text{vec\\_01} = \\begin{bmatrix} -3&2&0 \\end{bmatrix}, \\;\\; \\text{vec\\_03} = \\begin{bmatrix} 0&8&2 \\end{bmatrix}, \\;\\; \\text{vec\\_01} \\cdot{} \\text{vec\\_03} = ? $"
   ]
  },
  {
   "cell_type": "code",
   "execution_count": 35,
   "metadata": {},
   "outputs": [
    {
     "data": {
      "text/plain": [
       "array([0, 8, 2])"
      ]
     },
     "execution_count": 35,
     "metadata": {},
     "output_type": "execute_result"
    }
   ],
   "source": [
    "#(1) Define `vec_03`\n",
    "vec_03 = np.array(object=[0, 8, 2])\n",
    "\n",
    "#(2) Print `vec_03`\n",
    "vec_03"
   ]
  },
  {
   "cell_type": "code",
   "execution_count": 36,
   "metadata": {},
   "outputs": [
    {
     "data": {
      "text/plain": [
       "16"
      ]
     },
     "execution_count": 36,
     "metadata": {},
     "output_type": "execute_result"
    }
   ],
   "source": [
    "#(3) Print inner product of `mat_01` and `mat_02`\n",
    "np.vdot(vec_01, vec_03)"
   ]
  },
  {
   "cell_type": "markdown",
   "metadata": {},
   "source": [
    "#### 03.2. **외적-벡터곱(Cross product) : `np.cross()`**\n",
    "#### $ \\text{vec\\_01} = \\begin{bmatrix} -3&2&0 \\end{bmatrix}, \\;\\; \\text{vec\\_03} = \\begin{bmatrix} 0&8&2 \\end{bmatrix}, \\;\\; \\text{vec\\_01} \\times{} \\text{vec\\_03} = ? $"
   ]
  },
  {
   "cell_type": "code",
   "execution_count": 37,
   "metadata": {},
   "outputs": [
    {
     "data": {
      "text/plain": [
       "array([  0,   0, -11])"
      ]
     },
     "execution_count": 37,
     "metadata": {},
     "output_type": "execute_result"
    }
   ],
   "source": [
    "#(3) Print cross-product of `vec_01` and `vec_02`\n",
    "np.cross(a=vec_01, b=vec_02)"
   ]
  },
  {
   "cell_type": "markdown",
   "metadata": {},
   "source": [
    "#### 03.3. **외적-텐서곱(Outer Product) : `np.outer()`**\n",
    "#### $ \\text{vec\\_01} = \\begin{bmatrix} -3&2&0 \\end{bmatrix}, \\;\\; \\text{vec\\_03} = \\begin{bmatrix} 0&8&2 \\end{bmatrix}, \\;\\; \\text{vec\\_01} \\otimes{} \\text{vec\\_03} = ? $"
   ]
  },
  {
   "cell_type": "code",
   "execution_count": 38,
   "metadata": {},
   "outputs": [
    {
     "data": {
      "text/plain": [
       "array([[-3, -9],\n",
       "       [ 2,  6],\n",
       "       [ 0,  0]])"
      ]
     },
     "execution_count": 38,
     "metadata": {},
     "output_type": "execute_result"
    }
   ],
   "source": [
    "#(1) Print outer-product of `vec_01` and `vec_02`\n",
    "np.outer(a=vec_01, b=vec_02)"
   ]
  },
  {
   "cell_type": "markdown",
   "metadata": {},
   "source": [
    "<b></b>"
   ]
  },
  {
   "cell_type": "markdown",
   "metadata": {},
   "source": [
    "## 04. **벡터의 길이 ; 놈(Norm)**"
   ]
  },
  {
   "cell_type": "markdown",
   "metadata": {},
   "source": [
    "#### 04.1. **맨하탄 놈(Manhattan norm); L1 놈**\n",
    "#### $ \\text{L1 Norm} = \\lVert{} \\textbf{x} \\rVert{}_{1} = \\sum{}_{i=1}^{n} |\\textbf{x}_{i} |, \\;\\; \\lVert{} \\text{vec\\_01} \\rVert{}_{1} = ? $"
   ]
  },
  {
   "cell_type": "code",
   "execution_count": 39,
   "metadata": {},
   "outputs": [
    {
     "data": {
      "text/plain": [
       "5.0"
      ]
     },
     "execution_count": 39,
     "metadata": {},
     "output_type": "execute_result"
    }
   ],
   "source": [
    "#(1) Print l1-norm of `vec_01`\n",
    "np.linalg.norm(x=vec_01, ord=1)"
   ]
  },
  {
   "cell_type": "markdown",
   "metadata": {},
   "source": [
    "#### 04.2. **유클라디안 놈(Euclidean); L2 놈**\n",
    "#### $ \\text{L2 Norm} = \\lVert{} \\textbf{x} \\rVert{}_{2} = \\sum{}_{i=1}^{n} \\sqrt{\\textbf{x}_{i}^{2}}, \\;\\; \\lVert{} \\text{vec\\_01} \\rVert{}_{2} = ? $"
   ]
  },
  {
   "cell_type": "code",
   "execution_count": 40,
   "metadata": {},
   "outputs": [
    {
     "data": {
      "text/plain": [
       "3.605551275463989"
      ]
     },
     "execution_count": 40,
     "metadata": {},
     "output_type": "execute_result"
    }
   ],
   "source": [
    "#(2) Print l2-norm of `vec_01`\n",
    "np.linalg.norm(x=vec_01, ord=2)"
   ]
  }
 ],
 "metadata": {
  "kernelspec": {
   "display_name": "SCKLN",
   "language": "python",
   "name": "python3"
  },
  "language_info": {
   "codemirror_mode": {
    "name": "ipython",
    "version": 3
   },
   "file_extension": ".py",
   "mimetype": "text/x-python",
   "name": "python",
   "nbconvert_exporter": "python",
   "pygments_lexer": "ipython3",
   "version": "3.8.20"
  }
 },
 "nbformat": 4,
 "nbformat_minor": 2
}
