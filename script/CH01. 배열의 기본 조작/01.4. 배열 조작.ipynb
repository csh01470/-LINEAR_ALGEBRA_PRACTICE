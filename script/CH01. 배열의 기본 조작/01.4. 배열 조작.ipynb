{
 "cells": [
  {
   "cell_type": "markdown",
   "metadata": {},
   "source": [
    "## CH01.4. **배열 조작**"
   ]
  },
  {
   "cell_type": "markdown",
   "metadata": {},
   "source": [
    "## 00. **작업 환경 설정**"
   ]
  },
  {
   "cell_type": "markdown",
   "metadata": {},
   "source": [
    "#### 00.1. **라이브러리 호출 및 옵션 설정**"
   ]
  },
  {
   "cell_type": "code",
   "execution_count": 1,
   "metadata": {},
   "outputs": [],
   "source": [
    "import numpy as np"
   ]
  },
  {
   "cell_type": "markdown",
   "metadata": {},
   "source": [
    "<b></b>"
   ]
  },
  {
   "cell_type": "markdown",
   "metadata": {},
   "source": [
    "## 01. **배열 복사**"
   ]
  },
  {
   "cell_type": "markdown",
   "metadata": {},
   "source": [
    "#### 01.1. **배열 복사 : `.copy()`**\n",
    "#### $ \\text{mat\\_01} = \\begin{bmatrix} 1&2&3 \\\\ 2&3&1 \\\\ 3&4&6 \\end{bmatrix}, \\;\\; \\text{mat\\_02} = \\text{mat\\_01}, \\;\\; \\text{define mat\\_02}. $"
   ]
  },
  {
   "cell_type": "code",
   "execution_count": 2,
   "metadata": {},
   "outputs": [
    {
     "data": {
      "text/plain": [
       "array([[1, 2, 3],\n",
       "       [2, 3, 1],\n",
       "       [3, 4, 6]])"
      ]
     },
     "execution_count": 2,
     "metadata": {},
     "output_type": "execute_result"
    }
   ],
   "source": [
    "#(1) Define `mat_01`\n",
    "mat_01 = np.array(object=[[1, 2, 3], [2, 3, 1], [3, 4, 6]], dtype=np.int64)\n",
    "\n",
    "#(2) Print `mat_01`\n",
    "mat_01"
   ]
  },
  {
   "cell_type": "code",
   "execution_count": 3,
   "metadata": {},
   "outputs": [
    {
     "data": {
      "text/plain": [
       "array([[1, 2, 3],\n",
       "       [2, 3, 1],\n",
       "       [3, 4, 6]])"
      ]
     },
     "execution_count": 3,
     "metadata": {},
     "output_type": "execute_result"
    }
   ],
   "source": [
    "#(3) Copy `mat_01`\n",
    "mat_02 = mat_01.copy()\n",
    "\n",
    "#(4) Print `mat_02`\n",
    "mat_02"
   ]
  },
  {
   "cell_type": "markdown",
   "metadata": {},
   "source": [
    "#### **(`PLUS`)** 바로 변수를 할당하는 경우, 같은 메모리(공간)을 참조하기 때문에 영향을 받음"
   ]
  },
  {
   "cell_type": "code",
   "execution_count": 4,
   "metadata": {},
   "outputs": [
    {
     "data": {
      "text/plain": [
       "array([[1, 2, 3],\n",
       "       [2, 3, 1],\n",
       "       [3, 4, 6]])"
      ]
     },
     "execution_count": 4,
     "metadata": {},
     "output_type": "execute_result"
    }
   ],
   "source": [
    "#(1) Define `mat_03`\n",
    "mat_03 = mat_01 \n",
    "\n",
    "#(2) Print `mat_03`\n",
    "mat_03"
   ]
  },
  {
   "cell_type": "code",
   "execution_count": 5,
   "metadata": {},
   "outputs": [
    {
     "data": {
      "text/plain": [
       "array([[32,  2,  3],\n",
       "       [ 2,  3,  1],\n",
       "       [ 3,  4,  6]])"
      ]
     },
     "execution_count": 5,
     "metadata": {},
     "output_type": "execute_result"
    }
   ],
   "source": [
    "#(3) Modify entry of `mat_03` \n",
    "mat_03[0, 0] = 32\n",
    "\n",
    "#(4) Print `mat_03`\n",
    "mat_03"
   ]
  },
  {
   "cell_type": "code",
   "execution_count": 6,
   "metadata": {},
   "outputs": [
    {
     "data": {
      "text/plain": [
       "array([[32,  2,  3],\n",
       "       [ 2,  3,  1],\n",
       "       [ 3,  4,  6]])"
      ]
     },
     "execution_count": 6,
     "metadata": {},
     "output_type": "execute_result"
    }
   ],
   "source": [
    "#(5) Print `mat_01`\n",
    "mat_01"
   ]
  },
  {
   "cell_type": "markdown",
   "metadata": {},
   "source": [
    "<b></b>"
   ]
  },
  {
   "cell_type": "markdown",
   "metadata": {},
   "source": [
    "## 02. **배열 형태 변환**"
   ]
  },
  {
   "cell_type": "markdown",
   "metadata": {},
   "source": [
    "#### 02.1. **배열 n차원 변환 : `np.reshape()`**\n",
    "#### $ \\text{mat\\_04} = \\begin{bmatrix} 1&2&3&2 \\\\ 2&3&1&4 \\\\ 3&4&6&8 \\end{bmatrix}, \\;\\; \\text{mat\\_05} = \\begin{bmatrix} 1&2&3&2&2&3 \\\\ 1&4&3&4&6&8 \\end{bmatrix}, \\;\\; \\text{define mat\\_05}. $"
   ]
  },
  {
   "cell_type": "code",
   "execution_count": 7,
   "metadata": {},
   "outputs": [
    {
     "data": {
      "text/plain": [
       "array([[1, 2, 3, 2],\n",
       "       [2, 3, 1, 4],\n",
       "       [3, 4, 6, 8]])"
      ]
     },
     "execution_count": 7,
     "metadata": {},
     "output_type": "execute_result"
    }
   ],
   "source": [
    "#(1) Define `mat_04`\n",
    "mat_04 = np.array(object=[[1, 2, 3, 2], [2, 3, 1, 4], [3, 4, 6, 8]], dtype=np.int64)\n",
    "\n",
    "#(2) Print `mat_04`\n",
    "mat_04"
   ]
  },
  {
   "cell_type": "code",
   "execution_count": 8,
   "metadata": {},
   "outputs": [
    {
     "data": {
      "text/plain": [
       "array([[1, 2, 3, 2, 2, 3],\n",
       "       [1, 4, 3, 4, 6, 8]])"
      ]
     },
     "execution_count": 8,
     "metadata": {},
     "output_type": "execute_result"
    }
   ],
   "source": [
    "#(3) Define `mat_05`\n",
    "mat_05 = np.reshape(a=mat_04.copy(), newshape=(2, 6))\n",
    "\n",
    "#(4) Print `mat_05`\n",
    "mat_05"
   ]
  },
  {
   "cell_type": "markdown",
   "metadata": {},
   "source": [
    "#### 02.2. **배열 전치 : `.transpose()`**\n",
    "#### $ \\text{mat\\_04} = \\begin{bmatrix} 1&2&3&2 \\\\ 2&3&1&4 \\\\ 3&4&6&8 \\end{bmatrix}, \\;\\; \\text{mat\\_06} = (\\text{mat\\_04})^{T}, \\;\\; \\text{define mat\\_06}. $"
   ]
  },
  {
   "cell_type": "code",
   "execution_count": 9,
   "metadata": {},
   "outputs": [
    {
     "data": {
      "text/plain": [
       "array([[1, 2, 3],\n",
       "       [2, 3, 4],\n",
       "       [3, 1, 6],\n",
       "       [2, 4, 8]])"
      ]
     },
     "execution_count": 9,
     "metadata": {},
     "output_type": "execute_result"
    }
   ],
   "source": [
    "#(1) Transpose `mat_04`\n",
    "mat_06 = mat_04.transpose()\n",
    "\n",
    "#(2) Print `mat_05`\n",
    "mat_06"
   ]
  },
  {
   "cell_type": "markdown",
   "metadata": {},
   "source": [
    "#### 02.3. **1차원 벡터 변환 : `.flatten()`**\n",
    "#### $ \\text{mat\\_04} = \\begin{bmatrix} 1&2&3&2 \\\\ 2&3&1&4 \\\\ 3&4&6&8 \\end{bmatrix}, \\;\\; \\text{vec\\_01} = \\begin{bmatrix} 1&2&3&2&\\cdots{}&6&8 \\end{bmatrix}, \\;\\; \\text{define vec\\_01}. $"
   ]
  },
  {
   "cell_type": "code",
   "execution_count": 10,
   "metadata": {},
   "outputs": [
    {
     "data": {
      "text/plain": [
       "array([1, 2, 3, 2, 2, 3, 1, 4, 3, 4, 6, 8])"
      ]
     },
     "execution_count": 10,
     "metadata": {},
     "output_type": "execute_result"
    }
   ],
   "source": [
    "#(1) Define `vec_01`\n",
    "vec_01 = mat_04.flatten()\n",
    "\n",
    "#(2) Print `vec_01`\n",
    "vec_01"
   ]
  },
  {
   "cell_type": "markdown",
   "metadata": {},
   "source": [
    "#### **(`PLUS`)** `.flatten()` 메서드는 `np.ravel()` 함수와 동일한 결과를 반환함"
   ]
  },
  {
   "cell_type": "code",
   "execution_count": 11,
   "metadata": {},
   "outputs": [
    {
     "data": {
      "text/plain": [
       "array([1, 2, 3, 2, 2, 3, 1, 4, 3, 4, 6, 8])"
      ]
     },
     "execution_count": 11,
     "metadata": {},
     "output_type": "execute_result"
    }
   ],
   "source": [
    "#(1) Define `vec_02`\n",
    "vec_02 = np.ravel(a=mat_04)\n",
    "\n",
    "#(2) Print `vec_02`\n",
    "vec_02"
   ]
  },
  {
   "cell_type": "markdown",
   "metadata": {},
   "source": [
    "<b></b>"
   ]
  },
  {
   "cell_type": "markdown",
   "metadata": {},
   "source": [
    "## 02. **대각 성분 조작**"
   ]
  },
  {
   "cell_type": "markdown",
   "metadata": {},
   "source": [
    "#### 02.1. **대각 성분 반환 : `np.diag()`**\n",
    "#### $ \\text{mat\\_04} = \\begin{bmatrix} 1&2&3&2 \\\\ 2&3&1&4 \\\\ 3&4&6&8 \\end{bmatrix}, \\;\\; \\begin{bmatrix} a_{11} \\\\ a_{22} \\\\ a_{23} \\end{bmatrix} = ? $"
   ]
  },
  {
   "cell_type": "code",
   "execution_count": 12,
   "metadata": {},
   "outputs": [
    {
     "data": {
      "text/plain": [
       "array([1, 3, 6])"
      ]
     },
     "execution_count": 12,
     "metadata": {},
     "output_type": "execute_result"
    }
   ],
   "source": [
    "#(1) Print diagonal entry of `mat_04` \n",
    "np.diag(v=mat_04, k=0)"
   ]
  },
  {
   "cell_type": "markdown",
   "metadata": {},
   "source": [
    "#### 02.2. **대각 성분 합 반환 : `np.trace()`**\n",
    "#### $ \\text{mat\\_04} = \\begin{bmatrix} 1&2&3&2 \\\\ 2&3&1&4 \\\\ 3&4&6&8 \\end{bmatrix}, \\;\\; a_{11}+a_{22}+a_{23} = ? $"
   ]
  },
  {
   "cell_type": "code",
   "execution_count": 13,
   "metadata": {},
   "outputs": [
    {
     "data": {
      "text/plain": [
       "10"
      ]
     },
     "execution_count": 13,
     "metadata": {},
     "output_type": "execute_result"
    }
   ],
   "source": [
    "#(1) Print diagonal entry sum of `mat_04`\n",
    "np.trace(a=mat_04)"
   ]
  },
  {
   "cell_type": "markdown",
   "metadata": {},
   "source": [
    "<b></b>"
   ]
  },
  {
   "cell_type": "markdown",
   "metadata": {},
   "source": [
    "## 04. **배열 결합**"
   ]
  },
  {
   "cell_type": "markdown",
   "metadata": {},
   "source": [
    "#### 04.1. **수평 배열 결합 : `np.hstack()`**\n",
    "#### $ \\text{mat\\_08} = \\begin{bmatrix} \\text{mat\\_01} & \\text{mat\\_02} \\end{bmatrix}, \\;\\; \\text{define mat\\_08}. $"
   ]
  },
  {
   "cell_type": "code",
   "execution_count": 14,
   "metadata": {},
   "outputs": [
    {
     "data": {
      "text/plain": [
       "array([[32,  2,  3,  1,  2,  3],\n",
       "       [ 2,  3,  1,  2,  3,  1],\n",
       "       [ 3,  4,  6,  3,  4,  6]])"
      ]
     },
     "execution_count": 14,
     "metadata": {},
     "output_type": "execute_result"
    }
   ],
   "source": [
    "#(1) Define `mat_08`\n",
    "mat_08 = np.hstack(tup=(mat_01, mat_02))\n",
    "\n",
    "#(2) Print `mat_08`\n",
    "mat_08"
   ]
  },
  {
   "cell_type": "markdown",
   "metadata": {},
   "source": [
    "#### 04.2. **수직 배열 결합 : `np.vstack()`**\n",
    "#### $ \\text{mat\\_09} = \\begin{bmatrix} \\text{mat\\_01} \\\\ \\text{mat\\_02} \\end{bmatrix}, \\;\\; \\text{define mat\\_09}. $"
   ]
  },
  {
   "cell_type": "code",
   "execution_count": 15,
   "metadata": {},
   "outputs": [
    {
     "data": {
      "text/plain": [
       "array([[32,  2,  3],\n",
       "       [ 2,  3,  1],\n",
       "       [ 3,  4,  6],\n",
       "       [ 1,  2,  3],\n",
       "       [ 2,  3,  1],\n",
       "       [ 3,  4,  6]])"
      ]
     },
     "execution_count": 15,
     "metadata": {},
     "output_type": "execute_result"
    }
   ],
   "source": [
    "#(1) Define `mat_09`\n",
    "mat_09 = np.vstack(tup=(mat_01, mat_02))\n",
    "\n",
    "#(2) Print `mat_09`\n",
    "mat_09"
   ]
  },
  {
   "cell_type": "markdown",
   "metadata": {},
   "source": [
    "<b></b>"
   ]
  },
  {
   "cell_type": "markdown",
   "metadata": {},
   "source": [
    "## 05. **배열 값 반환**"
   ]
  },
  {
   "cell_type": "markdown",
   "metadata": {},
   "source": [
    "#### 05.1. **실수부반환 : `.real`**\n",
    "#### $ \\text{mat\\_10} = \\begin{bmatrix} 1+2i&3&-4i \\\\ 1-3j&2&0 \\\\ 0&i&3+6i \\end{bmatrix}, \\;\\; \\text{return real number of mat\\_10}. $"
   ]
  },
  {
   "cell_type": "code",
   "execution_count": 16,
   "metadata": {},
   "outputs": [
    {
     "data": {
      "text/plain": [
       "array([[ 1.+2.j,  3.+0.j, -0.-4.j],\n",
       "       [ 1.-3.j,  2.+0.j,  0.+0.j],\n",
       "       [ 0.+0.j,  0.+1.j,  3.+6.j]])"
      ]
     },
     "execution_count": 16,
     "metadata": {},
     "output_type": "execute_result"
    }
   ],
   "source": [
    "#(1) Define `mat_10`\n",
    "mat_10 = np.array(object=[[1+2j, 3, -4j], [1-3j, 2, 0], [0, 1j, 3+6j]], dtype=np.complex128)\n",
    "\n",
    "#(2) Print `mat_10`\n",
    "mat_10"
   ]
  },
  {
   "cell_type": "code",
   "execution_count": 17,
   "metadata": {},
   "outputs": [
    {
     "data": {
      "text/plain": [
       "array([[ 1.,  3., -0.],\n",
       "       [ 1.,  2.,  0.],\n",
       "       [ 0.,  0.,  3.]])"
      ]
     },
     "execution_count": 17,
     "metadata": {},
     "output_type": "execute_result"
    }
   ],
   "source": [
    "#(3) Print real Number of `mat_10`\n",
    "mat_10.real"
   ]
  },
  {
   "cell_type": "markdown",
   "metadata": {},
   "source": [
    "#### 05.2. **허수부 반환 : `.imag`**\n",
    "#### $ \\text{mat\\_10} = \\begin{bmatrix} 1+2i&3&-4i \\\\ 1-3j&2&0 \\\\ 0&i&3+6i \\end{bmatrix}, \\;\\; \\text{return complex number of mat\\_10}. $"
   ]
  },
  {
   "cell_type": "code",
   "execution_count": 18,
   "metadata": {},
   "outputs": [
    {
     "data": {
      "text/plain": [
       "array([[ 2.,  0., -4.],\n",
       "       [-3.,  0.,  0.],\n",
       "       [ 0.,  1.,  6.]])"
      ]
     },
     "execution_count": 18,
     "metadata": {},
     "output_type": "execute_result"
    }
   ],
   "source": [
    "#(1) Print complex number of `mat_10`\n",
    "mat_10.imag"
   ]
  },
  {
   "cell_type": "markdown",
   "metadata": {},
   "source": [
    "#### 05.3. **허수부 복소켤레 반환 : `.conjugate()`**\n",
    "#### $ \\text{mat\\_10} \\begin{bmatrix} 1+2i&3&-4i \\\\ 1-3j&2&0 \\\\ 0&i&3+6i \\end{bmatrix}, \\;\\; \\text{return complex conjugate of mat\\_10}. $"
   ]
  },
  {
   "cell_type": "code",
   "execution_count": 19,
   "metadata": {},
   "outputs": [
    {
     "data": {
      "text/plain": [
       "array([[ 1.-2.j,  3.-0.j, -0.+4.j],\n",
       "       [ 1.+3.j,  2.-0.j,  0.-0.j],\n",
       "       [ 0.-0.j,  0.-1.j,  3.-6.j]])"
      ]
     },
     "execution_count": 19,
     "metadata": {},
     "output_type": "execute_result"
    }
   ],
   "source": [
    "#(1) Print complex conjugate of `mat_10`\n",
    "mat_10.conjugate()"
   ]
  }
 ],
 "metadata": {
  "kernelspec": {
   "display_name": "SCKLN",
   "language": "python",
   "name": "python3"
  },
  "language_info": {
   "codemirror_mode": {
    "name": "ipython",
    "version": 3
   },
   "file_extension": ".py",
   "mimetype": "text/x-python",
   "name": "python",
   "nbconvert_exporter": "python",
   "pygments_lexer": "ipython3",
   "version": "3.8.20"
  }
 },
 "nbformat": 4,
 "nbformat_minor": 2
}
