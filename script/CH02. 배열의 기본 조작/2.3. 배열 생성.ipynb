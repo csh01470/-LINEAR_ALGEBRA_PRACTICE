{
 "cells": [
  {
   "cell_type": "markdown",
   "metadata": {},
   "source": [
    "## CH2.3. **배열 생성**"
   ]
  },
  {
   "cell_type": "markdown",
   "metadata": {},
   "source": [
    "## 00. **SET WORK ENVORINMENT**"
   ]
  },
  {
   "cell_type": "markdown",
   "metadata": {},
   "source": [
    "#### 00.1. **IMPORT PACKAGES AND SET OPTIONS**"
   ]
  },
  {
   "cell_type": "code",
   "execution_count": 1,
   "metadata": {},
   "outputs": [],
   "source": [
    "import numpy as np"
   ]
  },
  {
   "cell_type": "markdown",
   "metadata": {},
   "source": [
    "## 01. **항등행렬 생성**"
   ]
  },
  {
   "cell_type": "markdown",
   "metadata": {},
   "source": [
    "#### 01.1. **정방항등행렬 생성 : `np.identity()`**\n",
    "#### matrix_01 $ \\; = \\begin{bmatrix} 1&0&0 \\\\ 0&1&0 \\\\ 0&0&1 \\end{bmatrix} $"
   ]
  },
  {
   "cell_type": "code",
   "execution_count": 2,
   "metadata": {},
   "outputs": [
    {
     "data": {
      "text/plain": [
       "array([[1, 0, 0],\n",
       "       [0, 1, 0],\n",
       "       [0, 0, 1]], dtype=int64)"
      ]
     },
     "execution_count": 2,
     "metadata": {},
     "output_type": "execute_result"
    }
   ],
   "source": [
    "#(1)\n",
    "matrix_01 = np.identity(n=3, dtype=np.int64)\n",
    "\n",
    "#(2)\n",
    "matrix_01"
   ]
  },
  {
   "cell_type": "markdown",
   "metadata": {},
   "source": [
    "#### 01.2. **단위항등행렬 생성 : `np.eye()`**\n",
    "#### matrix_02 $ \\; = \\begin{bmatrix} 1&0&0 \\\\ 0&1&0 \\\\ 0&0&1 \\end{bmatrix} $"
   ]
  },
  {
   "cell_type": "code",
   "execution_count": 3,
   "metadata": {},
   "outputs": [
    {
     "data": {
      "text/plain": [
       "array([[1, 0, 0],\n",
       "       [0, 1, 0],\n",
       "       [0, 0, 1]], dtype=int64)"
      ]
     },
     "execution_count": 3,
     "metadata": {},
     "output_type": "execute_result"
    }
   ],
   "source": [
    "#(1)\n",
    "matrix_02 = np.eye(N=3, M=3, dtype=np.int64)\n",
    "\n",
    "#(2)\n",
    "matrix_02"
   ]
  },
  {
   "cell_type": "markdown",
   "metadata": {},
   "source": [
    "#### matrix_03 $ \\; = \\begin{bmatrix} 0&1&0&0 \\\\ 0&0&1&0 \\\\ 0&0&0&1 \\end{bmatrix} $"
   ]
  },
  {
   "cell_type": "code",
   "execution_count": 4,
   "metadata": {},
   "outputs": [
    {
     "data": {
      "text/plain": [
       "array([[0, 1, 0, 0],\n",
       "       [0, 0, 1, 0],\n",
       "       [0, 0, 0, 1]])"
      ]
     },
     "execution_count": 4,
     "metadata": {},
     "output_type": "execute_result"
    }
   ],
   "source": [
    "#(1)\n",
    "matrix_03 = np.eye(N=3, M=4, k=1, dtype=np.int32)\n",
    "\n",
    "#(2)\n",
    "matrix_03"
   ]
  },
  {
   "cell_type": "markdown",
   "metadata": {},
   "source": [
    "**(MEMO)** 인자 `K`는 band id라고 정의함"
   ]
  },
  {
   "cell_type": "markdown",
   "metadata": {},
   "source": [
    "## 02. **삼각행렬 생성**"
   ]
  },
  {
   "cell_type": "markdown",
   "metadata": {},
   "source": [
    "#### 02.1. **단위 하삼각행렬 생성 : `np.tri()`**\n",
    "#### matrix_04 $ \\; = \\begin{bmatrix} 1&0&0 \\\\ 1&1&0 \\\\ 1&1&1 \\end{bmatrix} $"
   ]
  },
  {
   "cell_type": "code",
   "execution_count": 5,
   "metadata": {},
   "outputs": [
    {
     "data": {
      "text/plain": [
       "array([[1, 0, 0],\n",
       "       [1, 1, 0],\n",
       "       [1, 1, 1]], dtype=int64)"
      ]
     },
     "execution_count": 5,
     "metadata": {},
     "output_type": "execute_result"
    }
   ],
   "source": [
    "#(1)\n",
    "matrix_04 = np.tri(N=3, M=3, k=0, dtype=np.int64)\n",
    "\n",
    "#(2)\n",
    "matrix_04"
   ]
  },
  {
   "cell_type": "markdown",
   "metadata": {},
   "source": [
    "#### 02.2. **기존 데이터 기반 하삼각행렬 생성 : `np.tril()`**\n",
    "#### matrix_05 $ \\; = \\begin{bmatrix} 1&0&0&0 \\\\ 3&2.5&0&0 \\\\ 1&-3.7&11&0 \\end{bmatrix} $"
   ]
  },
  {
   "cell_type": "code",
   "execution_count": 6,
   "metadata": {},
   "outputs": [],
   "source": [
    "#help(np.tril)"
   ]
  },
  {
   "cell_type": "markdown",
   "metadata": {},
   "source": [
    "#### 02.3. **기존 데이터 기반 상삼각행렬 생성 : `np.triu()`**\n",
    "#### matrix_06 $ \\; = \\begin{bmatrix} 0&1&0&0 \\\\ 0&0&1&0 \\\\ 0&0&0&1 \\end{bmatrix} $"
   ]
  },
  {
   "cell_type": "code",
   "execution_count": 7,
   "metadata": {},
   "outputs": [],
   "source": [
    "#help(np.triu)"
   ]
  },
  {
   "cell_type": "markdown",
   "metadata": {},
   "source": [
    "## 03. **기타 행렬 생성**"
   ]
  },
  {
   "cell_type": "markdown",
   "metadata": {},
   "source": [
    "#### 03.1. **영행렬 생성 : `np.zeros()`**\n",
    "#### matrix_07 $ \\; = \\begin{bmatrix} 0&0&0&0 \\\\ 0&0&0&0 \\\\ 0&0&0&0 \\end{bmatrix} $"
   ]
  },
  {
   "cell_type": "code",
   "execution_count": 8,
   "metadata": {},
   "outputs": [
    {
     "data": {
      "text/plain": [
       "array([[0, 0, 0, 0],\n",
       "       [0, 0, 0, 0],\n",
       "       [0, 0, 0, 0]], dtype=int64)"
      ]
     },
     "execution_count": 8,
     "metadata": {},
     "output_type": "execute_result"
    }
   ],
   "source": [
    "#(1) \n",
    "matrix_07 = np.zeros(shape=(3, 4), dtype=np.int64)\n",
    "\n",
    "#(2)\n",
    "matrix_07"
   ]
  },
  {
   "cell_type": "markdown",
   "metadata": {},
   "source": [
    "#### 03.2. **모든 성분이 1인 행렬 생성 : `np.ones()`**\n",
    "#### matrix_08 $ \\; = \\begin{bmatrix} 1&1&1 \\\\ 1&1&1 \\\\ 1&1&1 \\end{bmatrix} $"
   ]
  },
  {
   "cell_type": "code",
   "execution_count": 9,
   "metadata": {},
   "outputs": [
    {
     "data": {
      "text/plain": [
       "array([[1, 1, 1],\n",
       "       [1, 1, 1],\n",
       "       [1, 1, 1]], dtype=int64)"
      ]
     },
     "execution_count": 9,
     "metadata": {},
     "output_type": "execute_result"
    }
   ],
   "source": [
    "#(1) \n",
    "matrix_08 = np.ones(shape=(3, 3), dtype=np.int64)\n",
    "\n",
    "#(2)\n",
    "matrix_08"
   ]
  },
  {
   "cell_type": "markdown",
   "metadata": {},
   "source": [
    "#### 03.3. **모든 성분이 특정 값인 행렬 생성 : `np.full()`**\n",
    "#### matrix_09 $ \\; = \\begin{bmatrix} 8&8&8&8&8 \\\\ 8&8&8&8&8 \\\\ 8&8&8&8&8 \\\\ 8&8&8&8&8 \\\\ 8&8&8&8&8 \\end{bmatrix} $"
   ]
  },
  {
   "cell_type": "code",
   "execution_count": 10,
   "metadata": {},
   "outputs": [
    {
     "data": {
      "text/plain": [
       "array([[8, 8, 8, 8, 8],\n",
       "       [8, 8, 8, 8, 8],\n",
       "       [8, 8, 8, 8, 8],\n",
       "       [8, 8, 8, 8, 8],\n",
       "       [8, 8, 8, 8, 8]], dtype=int64)"
      ]
     },
     "execution_count": 10,
     "metadata": {},
     "output_type": "execute_result"
    }
   ],
   "source": [
    "#(1) \n",
    "matrix_09 = np.full(shape=(5, 5), fill_value=8, dtype=np.int64)\n",
    "\n",
    "#(2)\n",
    "matrix_09"
   ]
  },
  {
   "cell_type": "markdown",
   "metadata": {},
   "source": [
    "## 04. **난수 기반 행렬 생성**"
   ]
  },
  {
   "cell_type": "markdown",
   "metadata": {},
   "source": [
    "#### 04.1. **균등분포를 따르는 정수인 행렬 생성 : `np.random.randint()`**\n",
    "#### matrix_10 $ \\; = \\begin{bmatrix} a_{11}&a_{12}&a_{13} \\\\ a_{21}&a_{22}&a_{23} \\\\ a_{31}&a_{32}&a_{33} \\end{bmatrix}, \\; a_{ik} \\in \\{ \\mathbb{Z} | 1 \\leqq \\mathbb{Z} \\leqq 10 \\}, \\; a_{ik} \\sim U(0, 10) $"
   ]
  },
  {
   "cell_type": "code",
   "execution_count": 31,
   "metadata": {},
   "outputs": [
    {
     "data": {
      "text/plain": [
       "array([[2, 1, 3],\n",
       "       [2, 9, 4],\n",
       "       [4, 2, 2]])"
      ]
     },
     "execution_count": 31,
     "metadata": {},
     "output_type": "execute_result"
    }
   ],
   "source": [
    "#(1) \n",
    "matrix_10 = np.random.randint(low=1, high=10, size=(3,3))\n",
    "\n",
    "#(2)\n",
    "matrix_10"
   ]
  },
  {
   "cell_type": "markdown",
   "metadata": {},
   "source": [
    "#### 04.2. **$ 0 $ 과 $ 1 $ 사이의 균등분포를 따르는 실수인 행렬 생성 : `np.random.rand()`**\n",
    "#### matrix_11 $ \\; = \\begin{bmatrix} a_{11}&a_{12}&a_{13} \\\\ a_{21}&a_{22}&a_{23} \\\\ a_{31}&a_{32}&a_{33} \\end{bmatrix}, \\; a_{ik} \\in \\{ \\mathbb{R} | 0 \\leqq \\mathbb{R} \\leqq 1 \\}, \\; a_{ik} \\sim U(0, 1) $"
   ]
  },
  {
   "cell_type": "code",
   "execution_count": 33,
   "metadata": {},
   "outputs": [
    {
     "data": {
      "text/plain": [
       "array([[0.92411858, 0.85190626, 0.53872993],\n",
       "       [0.09159682, 0.35512357, 0.47693553],\n",
       "       [0.47511359, 0.78874067, 0.90164627]])"
      ]
     },
     "execution_count": 33,
     "metadata": {},
     "output_type": "execute_result"
    }
   ],
   "source": [
    "#(1)\n",
    "matrix_11 = np.random.rand(3, 3)\n",
    "\n",
    "#(2)\n",
    "matrix_11"
   ]
  },
  {
   "cell_type": "markdown",
   "metadata": {},
   "source": [
    "#### 04.3. **정규분포를 따르는 실수인 행렬 생성 : `np.random.normal()`**\n",
    "#### matrix_12 $ \\; = \\begin{bmatrix} a_{11}&a_{12}&a_{13} \\\\ a_{21}&a_{22}&a_{23} \\\\ a_{31}&a_{32}&a_{33} \\end{bmatrix}, \\; a_{ik} \\in \\{ \\mathbb{R} | 0 \\leqq \\mathbb{R} \\leqq 1 \\}, \\; a_{ik} \\sim N(\\mu{}, \\sigma{}^{2}) $"
   ]
  },
  {
   "cell_type": "code",
   "execution_count": 34,
   "metadata": {},
   "outputs": [
    {
     "data": {
      "text/plain": [
       "array([[-1.38226343,  1.486669  , -0.92730207],\n",
       "       [-0.46740974,  2.39032563,  1.32665404],\n",
       "       [ 0.68965787,  0.76438453,  0.60479101]])"
      ]
     },
     "execution_count": 34,
     "metadata": {},
     "output_type": "execute_result"
    }
   ],
   "source": [
    "#(1)\n",
    "matrix_12 = np.random.normal(loc=0, scale=1, size=(3,3))\n",
    "\n",
    "#(2)\n",
    "matrix_12"
   ]
  },
  {
   "cell_type": "markdown",
   "metadata": {},
   "source": [
    "#### 04.4. **표준정규분포를 따르는 실수인 행렬 생성 : `np.random.randn()`**\n",
    "#### matrix_13 $ \\; = \\begin{bmatrix} a_{11}&a_{12}&a_{13} \\\\ a_{21}&a_{22}&a_{23} \\\\ a_{31}&a_{32}&a_{33} \\end{bmatrix}, \\; a_{ik} \\in \\{ \\mathbb{R} | 0 \\leqq \\mathbb{R} \\leqq 1 \\}, \\; a_{ik} \\sim Z(0, 1) $"
   ]
  },
  {
   "cell_type": "code",
   "execution_count": 35,
   "metadata": {},
   "outputs": [
    {
     "data": {
      "text/plain": [
       "array([[-1.66133433, -1.09388309,  0.57143761],\n",
       "       [ 0.65476073, -0.9831928 , -0.81300401],\n",
       "       [-0.87646218,  0.47863667, -0.5260759 ]])"
      ]
     },
     "execution_count": 35,
     "metadata": {},
     "output_type": "execute_result"
    }
   ],
   "source": [
    "#(1)\n",
    "matrix_13 = np.random.randn(3, 3)\n",
    "\n",
    "#(2)\n",
    "matrix_13"
   ]
  }
 ],
 "metadata": {
  "kernelspec": {
   "display_name": "ML_SKL",
   "language": "python",
   "name": "python3"
  },
  "language_info": {
   "codemirror_mode": {
    "name": "ipython",
    "version": 3
   },
   "file_extension": ".py",
   "mimetype": "text/x-python",
   "name": "python",
   "nbconvert_exporter": "python",
   "pygments_lexer": "ipython3",
   "version": "3.8.18"
  }
 },
 "nbformat": 4,
 "nbformat_minor": 2
}
