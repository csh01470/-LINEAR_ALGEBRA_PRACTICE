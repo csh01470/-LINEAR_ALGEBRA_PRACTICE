{
 "cells": [
  {
   "cell_type": "markdown",
   "metadata": {},
   "source": [
    "## CH2.2. **배열 입출력**"
   ]
  },
  {
   "cell_type": "markdown",
   "metadata": {},
   "source": [
    "## 00. **SET WORK ENVORINMENT**"
   ]
  },
  {
   "cell_type": "markdown",
   "metadata": {},
   "source": [
    "#### 00.1. **IMPORT PACKAGES AND SET OPTIONS**"
   ]
  },
  {
   "cell_type": "code",
   "execution_count": 2,
   "metadata": {},
   "outputs": [],
   "source": [
    "import numpy as np"
   ]
  },
  {
   "cell_type": "markdown",
   "metadata": {},
   "source": [
    "<b></b>"
   ]
  },
  {
   "cell_type": "markdown",
   "metadata": {},
   "source": [
    "## 01. **배열 데이터 읽기(불러오기)**"
   ]
  },
  {
   "cell_type": "markdown",
   "metadata": {},
   "source": [
    "#### 01.1. **.txt 형식으로 데이터 읽기 : `np.loadtxt()` or `np.genfromtxt()`**"
   ]
  },
  {
   "cell_type": "code",
   "execution_count": 28,
   "metadata": {},
   "outputs": [
    {
     "data": {
      "text/plain": [
       "array([[ 1. ,  2.5,  3. ],\n",
       "       [-1. , -2. , -1.5],\n",
       "       [ 4. ,  5. ,  6. ]])"
      ]
     },
     "execution_count": 28,
     "metadata": {},
     "output_type": "execute_result"
    }
   ],
   "source": [
    "#(1) Read txt file\n",
    "matrix = np.loadtxt(fname='../data/p02_inp1.txt', delimiter=' ')\n",
    "# OR \n",
    "# matrix = np.genfromtxt(fname='../data/p02_inp1.txt', delimiter=' ')\n",
    "\n",
    "#(2) print `matrix` object\n",
    "matrix"
   ]
  },
  {
   "cell_type": "markdown",
   "metadata": {},
   "source": [
    "#### 01.2. **.npy 형식으로 데이터 읽기 : `np.load()`**"
   ]
  },
  {
   "cell_type": "code",
   "execution_count": 27,
   "metadata": {},
   "outputs": [
    {
     "data": {
      "text/plain": [
       "array([[ 1. ,  2.5,  3. ],\n",
       "       [-1. , -2. , -1.5],\n",
       "       [ 4. ,  5. ,  6. ]])"
      ]
     },
     "execution_count": 27,
     "metadata": {},
     "output_type": "execute_result"
    }
   ],
   "source": [
    "#(1) Read npy file\n",
    "matrix = np.load(file='../data/p02_inp1.npy')\n",
    "\n",
    "#(2) print \n",
    "matrix"
   ]
  },
  {
   "cell_type": "markdown",
   "metadata": {},
   "source": [
    "## 02. **숫자 출력 방식**"
   ]
  },
  {
   "cell_type": "markdown",
   "metadata": {},
   "source": [
    "#### 02.1. **일반 표기법(floating format)**\n",
    "#### **(1)** CONTENTS\n",
    "#### **(2)** CONTENTS"
   ]
  },
  {
   "cell_type": "markdown",
   "metadata": {},
   "source": [
    "#### 02.2. **과학적 표기법(scientific format)**\n",
    "#### **(1)** CONTENTS\n",
    "#### **(2)** CONTENTS"
   ]
  },
  {
   "cell_type": "markdown",
   "metadata": {},
   "source": [
    "#### 02.3. **출력 형식의 제어 : `format()`**"
   ]
  },
  {
   "cell_type": "code",
   "execution_count": 30,
   "metadata": {},
   "outputs": [
    {
     "name": "stdout",
     "output_type": "stream",
     "text": [
      "temp\n"
     ]
    }
   ],
   "source": [
    "print('temp')"
   ]
  },
  {
   "cell_type": "markdown",
   "metadata": {},
   "source": [
    "## 03. **배열 데이터 쓰기(저장하기)**"
   ]
  },
  {
   "cell_type": "markdown",
   "metadata": {},
   "source": [
    "#### 03.1. **.txt 형식으로 데이터 쓰기 : `np.savetxt()`**"
   ]
  },
  {
   "cell_type": "code",
   "execution_count": 24,
   "metadata": {},
   "outputs": [],
   "source": [
    "#(1) Write `matrix`\n",
    "np.savetxt(X=matrix, fname='../output/p02_inp1.txt', fmt='%0.4f', delimiter=r'\\|')"
   ]
  },
  {
   "cell_type": "markdown",
   "metadata": {},
   "source": [
    "#### 03.2. **.npy 형식으로 데이터 쓰기 : `np.save()`**"
   ]
  },
  {
   "cell_type": "code",
   "execution_count": 26,
   "metadata": {},
   "outputs": [],
   "source": [
    "#(1) Write `matrix`\n",
    "np.save(file='../output/p02_inp1.npy', arr=matrix )"
   ]
  }
 ],
 "metadata": {
  "kernelspec": {
   "display_name": "ML_SKL",
   "language": "python",
   "name": "python3"
  },
  "language_info": {
   "codemirror_mode": {
    "name": "ipython",
    "version": 3
   },
   "file_extension": ".py",
   "mimetype": "text/x-python",
   "name": "python",
   "nbconvert_exporter": "python",
   "pygments_lexer": "ipython3",
   "version": "3.8.18"
  }
 },
 "nbformat": 4,
 "nbformat_minor": 2
}
